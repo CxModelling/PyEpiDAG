{
 "cells": [
  {
   "cell_type": "markdown",
   "metadata": {},
   "source": [
    "## Load PyEpiDAG"
   ]
  },
  {
   "cell_type": "code",
   "execution_count": 1,
   "metadata": {},
   "outputs": [
    {
     "ename": "ModuleNotFoundError",
     "evalue": "No module named 'epidag'",
     "output_type": "error",
     "traceback": [
      "\u001b[1;31m---------------------------------------------------------------------------\u001b[0m",
      "\u001b[1;31mModuleNotFoundError\u001b[0m                       Traceback (most recent call last)",
      "\u001b[1;32m<ipython-input-1-4b6c9ca2f2dd>\u001b[0m in \u001b[0;36m<module>\u001b[1;34m\u001b[0m\n\u001b[1;32m----> 1\u001b[1;33m \u001b[1;32mimport\u001b[0m \u001b[0mepidag\u001b[0m \u001b[1;32mas\u001b[0m \u001b[0mdag\u001b[0m\u001b[1;33m\u001b[0m\u001b[1;33m\u001b[0m\u001b[0m\n\u001b[0m\u001b[0;32m      2\u001b[0m \u001b[1;32mimport\u001b[0m \u001b[0mnumpy\u001b[0m \u001b[1;32mas\u001b[0m \u001b[0mnp\u001b[0m\u001b[1;33m\u001b[0m\u001b[1;33m\u001b[0m\u001b[0m\n",
      "\u001b[1;31mModuleNotFoundError\u001b[0m: No module named 'epidag'"
     ]
    }
   ],
   "source": [
    "import epidag as dag\n",
    "import numpy as np"
   ]
  },
  {
   "cell_type": "markdown",
   "metadata": {},
   "source": [
    "## Define a DAG"
   ]
  },
  {
   "cell_type": "markdown",
   "metadata": {},
   "source": [
    "Compose a script\n",
    "\n",
    "```\n",
    "PCore Exp1 {\n",
    "    # Definitions of nodes\n",
    "}\n",
    "```\n",
    "\n",
    "Then, .. parse to a DAG"
   ]
  },
  {
   "cell_type": "code",
   "execution_count": 2,
   "metadata": {},
   "outputs": [
    {
     "ename": "NameError",
     "evalue": "name 'dag' is not defined",
     "output_type": "error",
     "traceback": [
      "\u001b[1;31m---------------------------------------------------------------------------\u001b[0m",
      "\u001b[1;31mNameError\u001b[0m                                 Traceback (most recent call last)",
      "\u001b[1;32m<ipython-input-2-151b83eb3434>\u001b[0m in \u001b[0;36m<module>\u001b[1;34m\u001b[0m\n\u001b[0;32m      9\u001b[0m }\n\u001b[0;32m     10\u001b[0m '''\n\u001b[1;32m---> 11\u001b[1;33m \u001b[0mjs\u001b[0m \u001b[1;33m=\u001b[0m \u001b[0mdag\u001b[0m\u001b[1;33m.\u001b[0m\u001b[0mbn_script_to_json\u001b[0m\u001b[1;33m(\u001b[0m\u001b[0mscript\u001b[0m\u001b[1;33m)\u001b[0m\u001b[1;33m\u001b[0m\u001b[1;33m\u001b[0m\u001b[0m\n\u001b[0m\u001b[0;32m     12\u001b[0m \u001b[0mbn\u001b[0m \u001b[1;33m=\u001b[0m \u001b[0mdag\u001b[0m\u001b[1;33m.\u001b[0m\u001b[0mBayesianNetwork\u001b[0m\u001b[1;33m(\u001b[0m\u001b[0mjs\u001b[0m\u001b[1;33m)\u001b[0m\u001b[1;33m\u001b[0m\u001b[1;33m\u001b[0m\u001b[0m\n\u001b[0;32m     13\u001b[0m \u001b[0mbn\u001b[0m\u001b[1;33m\u001b[0m\u001b[1;33m\u001b[0m\u001b[0m\n",
      "\u001b[1;31mNameError\u001b[0m: name 'dag' is not defined"
     ]
    }
   ],
   "source": [
    "script = '''\n",
    "PCore Exp1 {\n",
    "    n\n",
    "    a = 0.5 \n",
    "    b ~ beta(1, 1)\n",
    "    c = min(a, b)\n",
    "    y ~ binom(n, c)\n",
    "    z = f(a,b)\n",
    "}\n",
    "'''\n",
    "js = dag.bn_script_to_json(script)\n",
    "bn = dag.BayesianNetwork(js)\n",
    "bn"
   ]
  },
  {
   "cell_type": "markdown",
   "metadata": {},
   "source": [
    "### Single value variable\n",
    "\n",
    "\n",
    "> VariableName = Number \n"
   ]
  },
  {
   "cell_type": "code",
   "execution_count": 3,
   "metadata": {},
   "outputs": [
    {
     "name": "stdout",
     "output_type": "stream",
     "text": [
      "Node 'a'\n",
      "Definition: a = 0.5\n",
      "\n",
      "Find the value\n",
      "0.5\n"
     ]
    }
   ],
   "source": [
    "SingleValue = bn['a']\n",
    "print('Node \\'a\\'')\n",
    "print('Definition:', SingleValue)\n",
    "\n",
    "print('\\nFind the value')\n",
    "print(SingleValue())"
   ]
  },
  {
   "cell_type": "markdown",
   "metadata": {},
   "source": [
    "### Exogenous variable\n",
    "\n",
    "> VariableName"
   ]
  },
  {
   "cell_type": "code",
   "execution_count": 4,
   "metadata": {},
   "outputs": [
    {
     "name": "stdout",
     "output_type": "stream",
     "text": [
      "Node 'n'\n",
      "Definition: n\n",
      "\n",
      "Find the value; must append external resources\n",
      "5\n"
     ]
    }
   ],
   "source": [
    "Exogenous = bn['n']\n",
    "print('Node \\'n\\'')\n",
    "print('Definition:', Exogenous)\n",
    "\n",
    "print('\\nFind the value; must append external resources')\n",
    "print(Exogenous({'n': 5}))"
   ]
  },
  {
   "cell_type": "markdown",
   "metadata": {},
   "source": [
    "### Random variable\n",
    "\n",
    "> VariableName ~ p(...)\n",
    "\n",
    "** p(...) **: a probabilidy density/mass function"
   ]
  },
  {
   "cell_type": "code",
   "execution_count": 5,
   "metadata": {},
   "outputs": [
    {
     "name": "stdout",
     "output_type": "stream",
     "text": [
      "Node 'b'\n",
      "Definition: b ~ beta(1,1)\n",
      "\n",
      "Sample a value\n",
      "0.491631315761\n"
     ]
    }
   ],
   "source": [
    "Random = bn['b']\n",
    "print('Node \\'b\\'')\n",
    "print('Definition:', Random)\n",
    "\n",
    "print('\\nSample a value')\n",
    "print(Random())"
   ]
  },
  {
   "cell_type": "markdown",
   "metadata": {},
   "source": [
    "### Equation output\n",
    "\n",
    "> OutputName = g(...)\n",
    "\n",
    "** g(...) **: a mathematical function"
   ]
  },
  {
   "cell_type": "code",
   "execution_count": 6,
   "metadata": {},
   "outputs": [
    {
     "name": "stdout",
     "output_type": "stream",
     "text": [
      "Node 'c'\n",
      "Definition: c = min(a,b)\n",
      "\n",
      "Calculate a value\n",
      "0.5\n"
     ]
    }
   ],
   "source": [
    "Equation = bn['c']\n",
    "print('Node \\'c\\'')\n",
    "print('Definition:', Equation)\n",
    "\n",
    "parents = {\n",
    "    'a': SingleValue(), \n",
    "    'b': Random() \n",
    "}\n",
    "\n",
    "print('\\nCalculate a value')\n",
    "print(Equation(parents))"
   ]
  },
  {
   "cell_type": "markdown",
   "metadata": {},
   "source": [
    "### Pseudo Node\n",
    "Pseudo nodes are the nodes which can not be implemented in simulation but in relation inference.\n",
    "\n",
    "> VariableName = f(...)\n",
    "\n",
    "** f(...) **: a pseudo function start with ** f ** and a list of parent variables follows"
   ]
  },
  {
   "cell_type": "code",
   "execution_count": 7,
   "metadata": {},
   "outputs": [
    {
     "name": "stdout",
     "output_type": "stream",
     "text": [
      "Node 'b'\n",
      "Definition: b ~ beta(1,1)\n",
      "\n",
      "Sample a value\n",
      "0.005289730994\n"
     ]
    }
   ],
   "source": [
    "Random = bn['b']\n",
    "print('Node \\'b\\'')\n",
    "print('Definition:', Random)\n",
    "\n",
    "print('\\nSample a value')\n",
    "print(Random())"
   ]
  }
 ],
 "metadata": {
  "kernelspec": {
   "display_name": "Python 3",
   "language": "python",
   "name": "python3"
  },
  "language_info": {
   "codemirror_mode": {
    "name": "ipython",
    "version": 3
   },
   "file_extension": ".py",
   "mimetype": "text/x-python",
   "name": "python",
   "nbconvert_exporter": "python",
   "pygments_lexer": "ipython3",
   "version": "3.7.3"
  }
 },
 "nbformat": 4,
 "nbformat_minor": 2
}
