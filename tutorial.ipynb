{
 "cells": [
  {
   "cell_type": "markdown",
   "metadata": {},
   "source": [
    "## Load PyEpiDAG"
   ]
  },
  {
   "cell_type": "code",
   "execution_count": 1,
   "metadata": {
    "collapsed": true
   },
   "outputs": [],
   "source": [
    "import epidag as dag\n",
    "import numpy as np"
   ]
  },
  {
   "cell_type": "markdown",
   "metadata": {},
   "source": [
    "## Define a DAG"
   ]
  },
  {
   "cell_type": "markdown",
   "metadata": {},
   "source": [
    "Compose a script\n",
    "\n",
    "```\n",
    "PCore Exp1 {\n",
    "    # Definitions of nodes\n",
    "}\n",
    "```\n",
    "\n",
    "Then, .. parse to a DAG"
   ]
  },
  {
   "cell_type": "code",
   "execution_count": 2,
   "metadata": {
    "collapsed": false
   },
   "outputs": [
    {
     "data": {
      "text/plain": [
       "Name:\tExp1\n",
       "Nodes:\n",
       "\tn\n",
       "\tb ~ beta(1,1)\n",
       "\ta = 0.5\n",
       "\tz = f(a, b)\n",
       "\tc = min(a,b)\n",
       "\ty ~ binom(n,c)"
      ]
     },
     "execution_count": 2,
     "metadata": {},
     "output_type": "execute_result"
    }
   ],
   "source": [
    "script = '''\n",
    "PCore Exp1 {\n",
    "    n\n",
    "    a = 0.5 \n",
    "    b ~ beta(1, 1)\n",
    "    c = min(a, b)\n",
    "    y ~ binom(n, c)\n",
    "    z = f(a,b)\n",
    "}\n",
    "'''\n",
    "\n",
    "js = dag.bn_script_to_json(script)\n",
    "bn = dag.BayesianNetwork(js)\n",
    "bn"
   ]
  },
  {
   "cell_type": "markdown",
   "metadata": {},
   "source": [
    "### Single value variable\n",
    "\n",
    "\n",
    "> VariableName = Number \n"
   ]
  },
  {
   "cell_type": "code",
   "execution_count": 3,
   "metadata": {
    "collapsed": false
   },
   "outputs": [
    {
     "name": "stdout",
     "output_type": "stream",
     "text": [
      "Node 'a'\n",
      "Definition: a = 0.5\n",
      "\n",
      "Find the value\n",
      "0.5\n"
     ]
    }
   ],
   "source": [
    "SingleValue = bn['a']\n",
    "print('Node \\'a\\'')\n",
    "print('Definition:', SingleValue)\n",
    "\n",
    "print('\\nFind the value')\n",
    "print(SingleValue())"
   ]
  },
  {
   "cell_type": "markdown",
   "metadata": {},
   "source": [
    "### Exogenous variable\n",
    "\n",
    "> VariableName"
   ]
  },
  {
   "cell_type": "code",
   "execution_count": 4,
   "metadata": {
    "collapsed": false
   },
   "outputs": [
    {
     "name": "stdout",
     "output_type": "stream",
     "text": [
      "Node 'n'\n",
      "Definition: n\n",
      "\n",
      "Find the value; must append external resources\n",
      "5\n"
     ]
    }
   ],
   "source": [
    "Exogenous = bn['n']\n",
    "print('Node \\'n\\'')\n",
    "print('Definition:', Exogenous)\n",
    "\n",
    "print('\\nFind the value; must append external resources')\n",
    "print(Exogenous({'n': 5}))"
   ]
  },
  {
   "cell_type": "markdown",
   "metadata": {},
   "source": [
    "### Random variable\n",
    "\n",
    "> VariableName ~ p(...)\n",
    "\n",
    "** p(...) **: a probabilidy density/mass function"
   ]
  },
  {
   "cell_type": "code",
   "execution_count": 5,
   "metadata": {
    "collapsed": false
   },
   "outputs": [
    {
     "name": "stdout",
     "output_type": "stream",
     "text": [
      "Node 'b'\n",
      "Definition: b ~ beta(1,1)\n",
      "\n",
      "Sample a value\n",
      "0.225970230493\n"
     ]
    }
   ],
   "source": [
    "Random = bn['b']\n",
    "print('Node \\'b\\'')\n",
    "print('Definition:', Random)\n",
    "\n",
    "print('\\nSample a value')\n",
    "print(Random())"
   ]
  },
  {
   "cell_type": "markdown",
   "metadata": {},
   "source": [
    "### Equation output\n",
    "\n",
    "> OutputName = g(...)\n",
    "\n",
    "** g(...) **: a mathematical function"
   ]
  },
  {
   "cell_type": "code",
   "execution_count": 6,
   "metadata": {
    "collapsed": false
   },
   "outputs": [
    {
     "name": "stdout",
     "output_type": "stream",
     "text": [
      "Node 'c'\n",
      "Definition: c = min(a,b)\n",
      "\n",
      "Calculate a value\n",
      "0.451370679881\n"
     ]
    }
   ],
   "source": [
    "Equation = bn['c']\n",
    "print('Node \\'c\\'')\n",
    "print('Definition:', Equation)\n",
    "\n",
    "parents = {\n",
    "    'a': SingleValue(), \n",
    "    'b': Random() \n",
    "}\n",
    "\n",
    "print('\\nCalculate a value')\n",
    "print(Equation(parents))"
   ]
  },
  {
   "cell_type": "markdown",
   "metadata": {},
   "source": [
    "### Pseudo Node\n",
    "Pseudo nodes are the nodes which can not be implemented in simulation but in relation inference.\n",
    "\n",
    "> VariableName = f(...)\n",
    "\n",
    "** f(...) **: a pseudo function start with ** f ** and a list of parent variables follows"
   ]
  },
  {
   "cell_type": "code",
   "execution_count": 7,
   "metadata": {
    "collapsed": false
   },
   "outputs": [
    {
     "name": "stdout",
     "output_type": "stream",
     "text": [
      "Node 'z'\n",
      "Definition: z = f(a, b)\n",
      "Parents: {'a', 'b'}\n",
      "Pseudo nodes do not provide any implementation\n"
     ]
    }
   ],
   "source": [
    "Pseudo = bn['z']\n",
    "print('Node \\'z\\'')\n",
    "print('Definition:', Pseudo)\n",
    "\n",
    "parents = {\n",
    "    'a': SingleValue(), \n",
    "    'b': Random()\n",
    "}\n",
    "print('Parents:', Pseudo.Parents)\n",
    "\n",
    "try:\n",
    "    Pseudo(parents)\n",
    "except AttributeError:\n",
    "    print('Pseudo nodes do not provide any implementation')"
   ]
  },
  {
   "cell_type": "markdown",
   "metadata": {},
   "source": [
    "## For simulation model\n",
    "\n",
    "The **'epidag.simulation'** is used to provide tools for simulation modelling. \n",
    "\n",
    "### Reasons to use 'epidag.simulation'\n",
    "- The parameters of my model have complicated interactions among each other.\n",
    "- My model includes many random effects, so I don't want to fix the parameters in the begining.\n",
    "- I don't want to rebuild my model after the parameters changed. (Intervention analysis).\n",
    "- My study include Monte Carlo inference and model fitting, so I need a convienant interface.\n",
    "\n",
    "\n",
    "### SimulationCore\n",
    "SimulationCore is a type of object carrying all the definition of a parameter model.\n",
    "\n",
    "\n",
    "### ParameterCore\n",
    "ParameterCore is a type of object can be use directly in a simulation model. A ParameterCore can be generated from its parent ParameterCore or a SimulationCore. After a ParameterCore instantiated 1) the fixed nodes are assigned, 2) the random nodes are ready to be used.\n",
    "\n",
    "### Purposed workflow\n",
    "\n",
    "Monte Carlo simulation\n",
    "1. Prepare a SimulationCore\n",
    "2. For each iteration, generate a ParameterCore\n",
    "3. Build simulation models with the ParamterCores\n",
    "4. Collect results and analysis (summarise or fit to data)"
   ]
  },
  {
   "cell_type": "markdown",
   "metadata": {},
   "source": [
    "### Example 1. Basic syntex and function, Gaussian distribution\n",
    "\n",
    "This example shows a normal variable ($x$) with a fixed mean value ($mu_x$) and a standard deviation ($sd$) distributed from an exponential distribution"
   ]
  },
  {
   "cell_type": "markdown",
   "metadata": {},
   "source": [
    "#### Step 1. generate a simulation given a Bayesian network"
   ]
  },
  {
   "cell_type": "code",
   "execution_count": 8,
   "metadata": {
    "collapsed": true
   },
   "outputs": [],
   "source": [
    "script = '''\n",
    "PCore Exp1 {\n",
    "   mu_x = 0\n",
    "   sd ~ exp(1)\n",
    "   x ~ norm(mu_x, sd)\n",
    "}\n",
    "'''\n",
    "\n",
    "bn = dag.bn_from_script(script)\n",
    "sc = dag.as_simulation_core(bn)"
   ]
  },
  {
   "cell_type": "markdown",
   "metadata": {},
   "source": [
    "#### Step 2. Instantiate a ParameterCore which \n",
    "\n",
    "- Hyper-parameter ($sd$) is fixed to a certain value\n",
    "- A sampler of the leaf variable ($x$) is prepared"
   ]
  },
  {
   "cell_type": "code",
   "execution_count": 9,
   "metadata": {
    "collapsed": false
   },
   "outputs": [
    {
     "data": {
      "text/plain": [
       "sd: 1.27011, mu_x: 0"
      ]
     },
     "execution_count": 9,
     "metadata": {},
     "output_type": "execute_result"
    }
   ],
   "source": [
    "pc = sc.generate(nickname='exp2')\n",
    "pc"
   ]
  },
  {
   "cell_type": "markdown",
   "metadata": {},
   "source": [
    "#### Step 3. Get sampler x from the ParameterCore and provide it to a simulation model.\n",
    "\n",
    "- The sampler can be used repeatly\n",
    "- You don't need to refer to its hyper-parameters while using"
   ]
  },
  {
   "cell_type": "code",
   "execution_count": 10,
   "metadata": {
    "collapsed": false
   },
   "outputs": [
    {
     "data": {
      "text/plain": [
       "Actor x (norm(mu_x,sd)) on exp2"
      ]
     },
     "execution_count": 10,
     "metadata": {},
     "output_type": "execute_result"
    }
   ],
   "source": [
    "x = pc.get_sampler('x')\n",
    "x"
   ]
  },
  {
   "cell_type": "code",
   "execution_count": 11,
   "metadata": {
    "collapsed": false
   },
   "outputs": [
    {
     "data": {
      "text/plain": [
       "(0.10198943534198453, 0.013835560445431527)"
      ]
     },
     "execution_count": 11,
     "metadata": {},
     "output_type": "execute_result"
    }
   ],
   "source": [
    "x(), np.mean([x() for _ in range(1000)])"
   ]
  },
  {
   "cell_type": "markdown",
   "metadata": {},
   "source": [
    "#### Step 4. Intervention\n",
    "\n",
    "You can set impulse on the ParameterCore. Then, \n",
    "- The impulse will be passed down to its downstream variables\n",
    "- You don't need to do anything to the sample  "
   ]
  },
  {
   "cell_type": "code",
   "execution_count": 12,
   "metadata": {
    "collapsed": false
   },
   "outputs": [
    {
     "data": {
      "text/plain": [
       "sd: 5, mu_x: 100"
      ]
     },
     "execution_count": 12,
     "metadata": {},
     "output_type": "execute_result"
    }
   ],
   "source": [
    "pc.impulse({'sd': 5, 'mu_x': 100})\n",
    "pc"
   ]
  },
  {
   "cell_type": "code",
   "execution_count": 13,
   "metadata": {
    "collapsed": false
   },
   "outputs": [
    {
     "data": {
      "text/plain": [
       "(92.33423572375635, 100.13785351730937)"
      ]
     },
     "execution_count": 13,
     "metadata": {},
     "output_type": "execute_result"
    }
   ],
   "source": [
    "x(), np.mean([x() for _ in range(1000)])"
   ]
  },
  {
   "cell_type": "markdown",
   "metadata": {},
   "source": [
    "### Example 2. Random effects, Beta-Binomial model"
   ]
  },
  {
   "cell_type": "markdown",
   "metadata": {},
   "source": [
    "Example 2 is a standard example in Baysian inference. Beta-Binomial model are used to model count data ($x$) with a latent variable, probability ($prob$). \n",
    "\n",
    "\n",
    "> dag.as_simulation_core(bn, random=[...])\n",
    "\n",
    "The option **random** defined variables which we do not want then be fixed during ParameterCore instantiation"
   ]
  },
  {
   "cell_type": "code",
   "execution_count": 25,
   "metadata": {
    "collapsed": true
   },
   "outputs": [],
   "source": [
    "script = '''\n",
    "Pcore BetaBinom {\n",
    "    alpha = 1\n",
    "    beta = 1\n",
    "    n\n",
    "    prob ~ beta(alpha, beta)\n",
    "    x ~ binom(n, prob)\n",
    "}\n",
    "'''\n",
    "\n",
    "bn = dag.bn_from_script(script)\n",
    "sc = dag.as_simulation_core(bn, random=['prob'])"
   ]
  },
  {
   "cell_type": "markdown",
   "metadata": {},
   "source": [
    "Since the variable $n$ is an exogenous variable, we introduce it to new ParameterCore by **exo={...}**.\n",
    "\n",
    "To be noticed that, $prob$ has been set as a random effect, so the variable will be requested whenever new $x$ is requested"
   ]
  },
  {
   "cell_type": "code",
   "execution_count": 29,
   "metadata": {
    "collapsed": false
   },
   "outputs": [
    {
     "data": {
      "text/plain": [
       "n: 100, beta: 1, alpha: 1"
      ]
     },
     "execution_count": 29,
     "metadata": {},
     "output_type": "execute_result"
    }
   ],
   "source": [
    "pc = sc.generate('exp1', exo={'n': 100})\n",
    "pc"
   ]
  },
  {
   "cell_type": "markdown",
   "metadata": {},
   "source": [
    "Again, we get a sampler $x$ for the generated ParameterCore"
   ]
  },
  {
   "cell_type": "code",
   "execution_count": 31,
   "metadata": {
    "collapsed": false
   },
   "outputs": [
    {
     "data": {
      "text/plain": [
       "13"
      ]
     },
     "execution_count": 31,
     "metadata": {},
     "output_type": "execute_result"
    }
   ],
   "source": [
    "x = sg.get_sampler('x')\n",
    "x()"
   ]
  },
  {
   "cell_type": "markdown",
   "metadata": {},
   "source": [
    "**list_all** option print all variables used to sample outcome variable. You can see $prob$ is not a fixed variable"
   ]
  },
  {
   "cell_type": "code",
   "execution_count": 34,
   "metadata": {
    "collapsed": false
   },
   "outputs": [
    {
     "data": {
      "text/plain": [
       "(90, {'alpha': 1, 'beta': 1, 'n': 100, 'prob': 0.93505637848964274})"
      ]
     },
     "execution_count": 34,
     "metadata": {},
     "output_type": "execute_result"
    }
   ],
   "source": [
    "x(list_all=True)"
   ]
  },
  {
   "cell_type": "code",
   "execution_count": 38,
   "metadata": {
    "collapsed": false
   },
   "outputs": [
    {
     "data": {
      "text/plain": [
       "(26, {'alpha': 1, 'beta': 1, 'n': 100, 'prob': 0.3326761755756778})"
      ]
     },
     "execution_count": 38,
     "metadata": {},
     "output_type": "execute_result"
    }
   ],
   "source": [
    "x(list_all=True)"
   ]
  },
  {
   "cell_type": "markdown",
   "metadata": {},
   "source": [
    "### Example 3. Exposed variables,  Regression model"
   ]
  },
  {
   "cell_type": "code",
   "execution_count": null,
   "metadata": {
    "collapsed": true
   },
   "outputs": [],
   "source": [
    "script = '''\n",
    "Pcore Regression {\n",
    "    alpha = 1\n",
    "    beta = 1\n",
    "    n\n",
    "    prob ~ beta(alpha, beta)\n",
    "    x ~ binom(n, prob)\n",
    "}\n",
    "'''\n",
    "\n",
    "bn = dag.bn_from_script(script)\n",
    "sc = dag.as_simulation_core(bn, random=['prob'])"
   ]
  },
  {
   "cell_type": "code",
   "execution_count": 18,
   "metadata": {
    "collapsed": false
   },
   "outputs": [
    {
     "name": "stdout",
     "output_type": "stream",
     "text": [
      "Group None\n",
      "Must be fixed: ['beta', 'alpha', 'n']\n",
      "Can be random: ['prob']\n",
      "Can be actors: ['x']\n"
     ]
    },
    {
     "data": {
      "text/plain": [
       "{None: (['beta', 'alpha', 'n'], ['prob'], ['x'])}"
      ]
     },
     "execution_count": 18,
     "metadata": {},
     "output_type": "execute_result"
    }
   ],
   "source": [
    "dag.form_hierarchy(bn)\n",
    "dag.analyse_node_type(bn, dag.form_hierarchy(bn), report=True)"
   ]
  },
  {
   "cell_type": "markdown",
   "metadata": {},
   "source": [
    "### Example 3: BMI model"
   ]
  },
  {
   "cell_type": "code",
   "execution_count": 19,
   "metadata": {
    "collapsed": false
   },
   "outputs": [
    {
     "data": {
      "text/plain": [
       "ageB: 28.6247, muB: 26.1396"
      ]
     },
     "execution_count": 19,
     "metadata": {},
     "output_type": "execute_result"
    }
   ],
   "source": [
    "\n",
    "script = '''\n",
    "PCore BMI {\n",
    "    b0 ~ norm(12, 1)\n",
    "    b1 = 0.5\n",
    "    pf ~ beta(8, 20)\n",
    "    foodstore ~ binom(100, pf)\n",
    "    b0r ~ norm(0, .01)\n",
    "    ageA ~ norm(20, 3)\n",
    "    ageB ~ norm(30, 2)\n",
    "    ps ~ beta(5, 6)\n",
    "    sexA ~ cat({'m': ps, 'f': 1-ps})\n",
    "    muA = b0 + b0r + b1*ageA\n",
    "    bmiA ~ norm(muA, sd)\n",
    "    sdB = sd * 0.5\n",
    "    muB = b0 + b0r + b1*ageB\n",
    "    bmiB ~ norm(muB, sdB)\n",
    "}\n",
    "'''\n",
    "\n",
    "\n",
    "bn = dag.bn_from_script(script)\n",
    "\n",
    "hie = {\n",
    "    'country': ['area'],\n",
    "    'area': ['b0r', 'pf', 'ps', 'foodstore', 'agA', 'agB'],\n",
    "    'agA': ['bmiA', 'ageA', 'sexA'],\n",
    "    'agB': ['bmiB', 'ageB']\n",
    "}\n",
    "\n",
    "sc = dag.as_simulation_core(bn, hie,\n",
    "                            root='country',\n",
    "                            random=['muA'],\n",
    "                            out=['foodstore', 'bmiA', 'bmiB'])\n",
    "\n",
    "pc = sc.generate('Taiwan', {'sd': 1})\n",
    "pc_taipei = pc.breed('Taipei', 'area')\n",
    "pc_taipei.breed('A1', 'agA')\n",
    "pc_taipei.breed('A2', 'agA')\n",
    "pc_taipei.breed('B1', 'agB')\n",
    "pc_taipei.breed('B2', 'agB')"
   ]
  },
  {
   "cell_type": "code",
   "execution_count": 20,
   "metadata": {
    "collapsed": false
   },
   "outputs": [
    {
     "data": {
      "text/plain": [
       "[ActorBlueprint(Name='foodstore', Type='f', TypeH='s', Flow=None)]"
      ]
     },
     "execution_count": 20,
     "metadata": {},
     "output_type": "execute_result"
    }
   ],
   "source": [
    "pc_taipei.SG.ActorBlueprints"
   ]
  },
  {
   "cell_type": "code",
   "execution_count": 21,
   "metadata": {
    "collapsed": false
   },
   "outputs": [
    {
     "name": "stdout",
     "output_type": "stream",
     "text": [
      "country(sdB, b1, b0, sd)\n",
      "-- area(b0r, ps, pf, foodstore)\n",
      "---- agB(ageB, bmiB, muB)\n",
      "---- agA(muA, bmiA, sexA, ageA)\n"
     ]
    }
   ],
   "source": [
    "root = dag.form_hierarchy(bn, hie)\n",
    "root.print()"
   ]
  },
  {
   "cell_type": "code",
   "execution_count": 22,
   "metadata": {
    "collapsed": false
   },
   "outputs": [
    {
     "name": "stdout",
     "output_type": "stream",
     "text": [
      "Taiwan (sd: 1, sdB: 0.5, b1: 0.5, b0: 11.828)\n",
      "-- Taipei (ps: 0.333148, b0r: 10, pf: 0.364774)\n",
      "---- A1 (sexA: f, ageA: 23.3601)\n",
      "---- A2 (sexA: f, ageA: 23.8528)\n",
      "---- B1 (ageB: 28.8021, muB: 36.229)\n",
      "---- B2 (ageB: 28.6247, muB: 36.1403)\n"
     ]
    }
   ],
   "source": [
    "pc.impulse({'b0r': 10})\n",
    "pc.deep_print()"
   ]
  },
  {
   "cell_type": "code",
   "execution_count": 23,
   "metadata": {
    "collapsed": false
   },
   "outputs": [
    {
     "name": "stdout",
     "output_type": "stream",
     "text": [
      "Taiwan (sd: 1, sdB: 0.5, b1: 0.5, b0: 11.828)\n",
      "-- Taipei (ps: 0.333148, b0r: 0.015668, pf: 0.364774)\n",
      "---- A1 (sexA: f, ageA: 23.3601)\n",
      "---- A2 (sexA: f, ageA: 23.8528)\n",
      "---- B1 (ageB: 28.8021, muB: 26.2447)\n",
      "---- B2 (ageB: 28.6247, muB: 26.156)\n"
     ]
    }
   ],
   "source": [
    "pc.impulse(['b0r'])\n",
    "pc.deep_print()"
   ]
  },
  {
   "cell_type": "markdown",
   "metadata": {},
   "source": [
    "### Example 4: A simple agent-based model "
   ]
  },
  {
   "cell_type": "code",
   "execution_count": 24,
   "metadata": {
    "collapsed": false
   },
   "outputs": [
    {
     "name": "stdout",
     "output_type": "stream",
     "text": [
      "root(sd)\n",
      "-- agB(bmiB, muB)\n",
      "-- agA(bmiA, muA)\n"
     ]
    }
   ],
   "source": [
    "script = '''\n",
    "PCore BMI {\n",
    "    muA = 10\n",
    "    bmiA ~ norm(muA, sd)\n",
    "    muB ~ unif(10, 30)\n",
    "    bmiB ~ norm(muB, sd)\n",
    "}\n",
    "'''\n",
    "\n",
    "\n",
    "bn = dag.bn_from_script(script)\n",
    "\n",
    "hie = {\n",
    "    'agA': ['muA', 'bmiA'],\n",
    "    'agB': ['muB', 'bmiB']\n",
    "}\n",
    "\n",
    "dag.form_hierarchy(bn, hie).print()"
   ]
  },
  {
   "cell_type": "markdown",
   "metadata": {},
   "source": [
    "Actors hoisting\n",
    "\n",
    "\n",
    "Compound: Have any non-fixed mediator in the same group\n",
    "Y: Parent \n",
    "N: Child\n",
    "\n",
    "Single: All parent nodes are fixed\n",
    "Y: Parent\n",
    "N: Child\n",
    "\n",
    "Frozen: All parent ndoes are fixed\n",
    "Y: Child if have parents else Parent\n",
    "N: Child\n",
    "\n"
   ]
  }
 ],
 "metadata": {
  "kernelspec": {
   "display_name": "Python 3",
   "language": "python",
   "name": "python3"
  },
  "language_info": {
   "codemirror_mode": {
    "name": "ipython",
    "version": 3
   },
   "file_extension": ".py",
   "mimetype": "text/x-python",
   "name": "python",
   "nbconvert_exporter": "python",
   "pygments_lexer": "ipython3",
   "version": "3.6.0"
  }
 },
 "nbformat": 4,
 "nbformat_minor": 2
}
