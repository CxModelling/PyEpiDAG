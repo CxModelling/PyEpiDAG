{
 "cells": [
  {
   "cell_type": "markdown",
   "metadata": {},
   "source": [
    "## Load PyEpiDAG"
   ]
  },
  {
   "cell_type": "code",
   "execution_count": 1,
   "metadata": {},
   "outputs": [],
   "source": [
    "import epidag as dag\n",
    "import numpy as np"
   ]
  },
  {
   "cell_type": "markdown",
   "metadata": {},
   "source": [
    "## Define a DAG"
   ]
  },
  {
   "cell_type": "markdown",
   "metadata": {},
   "source": [
    "Compose a script\n",
    "\n",
    "```\n",
    "PCore Exp1 {\n",
    "    # Definitions of nodes\n",
    "}\n",
    "```\n",
    "\n",
    "Then, .. parse to a DAG"
   ]
  },
  {
   "cell_type": "code",
   "execution_count": 2,
   "metadata": {},
   "outputs": [
    {
     "data": {
      "text/plain": [
       "Name:\tExp1\n",
       "Nodes:\n",
       "\tn\n",
       "\tb ~ beta(1,1)\n",
       "\ta = 0.5\n",
       "\tz = f(b, a)\n",
       "\tc = min(a,b)\n",
       "\ty ~ binom(n,c)"
      ]
     },
     "execution_count": 2,
     "metadata": {},
     "output_type": "execute_result"
    }
   ],
   "source": [
    "script = '''\n",
    "PCore Exp1 {\n",
    "    n\n",
    "    a = 0.5 \n",
    "    b ~ beta(1, 1)\n",
    "    c = min(a, b)\n",
    "    y ~ binom(n, c)\n",
    "    z = f(a,b)\n",
    "}\n",
    "'''\n",
    "\n",
    "js = dag.bn_script_to_json(script)\n",
    "bn = dag.BayesianNetwork(js)\n",
    "bn\n"
   ]
  },
  {
   "cell_type": "markdown",
   "metadata": {},
   "source": [
    "### Single value variable\n",
    "\n",
    "\n",
    "> VariableName = Number \n"
   ]
  },
  {
   "cell_type": "code",
   "execution_count": 3,
   "metadata": {},
   "outputs": [
    {
     "name": "stdout",
     "output_type": "stream",
     "text": [
      "Node 'a'\n",
      "Definition: a = 0.5\n",
      "\n",
      "Find the value\n",
      "0.5\n"
     ]
    }
   ],
   "source": [
    "SingleValue = bn['a']\n",
    "print('Node \\'a\\'')\n",
    "print('Definition:', SingleValue)\n",
    "\n",
    "print('\\nFind the value')\n",
    "print(SingleValue())"
   ]
  },
  {
   "cell_type": "markdown",
   "metadata": {},
   "source": [
    "### Exogenous variable\n",
    "\n",
    "> VariableName"
   ]
  },
  {
   "cell_type": "code",
   "execution_count": 4,
   "metadata": {},
   "outputs": [
    {
     "name": "stdout",
     "output_type": "stream",
     "text": [
      "Node 'n'\n",
      "Definition: n\n",
      "\n",
      "Find the value; must append external resources\n",
      "5\n"
     ]
    }
   ],
   "source": [
    "Exogenous = bn['n']\n",
    "print('Node \\'n\\'')\n",
    "print('Definition:', Exogenous)\n",
    "\n",
    "print('\\nFind the value; must append external resources')\n",
    "print(Exogenous({'n': 5}))"
   ]
  },
  {
   "cell_type": "markdown",
   "metadata": {},
   "source": [
    "### Random variable\n",
    "\n",
    "> VariableName ~ p(...)\n",
    "\n",
    "** p(...) **: a probabilidy density/mass function"
   ]
  },
  {
   "cell_type": "code",
   "execution_count": 5,
   "metadata": {},
   "outputs": [
    {
     "name": "stdout",
     "output_type": "stream",
     "text": [
      "Node 'b'\n",
      "Definition: b ~ beta(1,1)\n",
      "\n",
      "Sample a value\n",
      "0.5896914567948136\n"
     ]
    }
   ],
   "source": [
    "Random = bn['b']\n",
    "print('Node \\'b\\'')\n",
    "print('Definition:', Random)\n",
    "\n",
    "print('\\nSample a value')\n",
    "print(Random())"
   ]
  },
  {
   "cell_type": "markdown",
   "metadata": {},
   "source": [
    "### Equation output\n",
    "\n",
    "> OutputName = g(...)\n",
    "\n",
    "** g(...) **: a mathematical function"
   ]
  },
  {
   "cell_type": "code",
   "execution_count": 6,
   "metadata": {},
   "outputs": [
    {
     "name": "stdout",
     "output_type": "stream",
     "text": [
      "Node 'c'\n",
      "Definition: c = min(a,b)\n",
      "\n",
      "Calculate a value\n",
      "0.2559076830976904\n"
     ]
    }
   ],
   "source": [
    "Equation = bn['c']\n",
    "print('Node \\'c\\'')\n",
    "print('Definition:', Equation)\n",
    "\n",
    "parents = {\n",
    "    'a': SingleValue(), \n",
    "    'b': Random() \n",
    "}\n",
    "\n",
    "print('\\nCalculate a value')\n",
    "print(Equation(parents))"
   ]
  },
  {
   "cell_type": "markdown",
   "metadata": {},
   "source": [
    "### Pseudo Node\n",
    "Pseudo nodes are the nodes which can not be implemented in simulation but in relation inference.\n",
    "\n",
    "> VariableName = f(...)\n",
    "\n",
    "** f(...) **: a pseudo function start with ** f ** and a list of parent variables follows"
   ]
  },
  {
   "cell_type": "code",
   "execution_count": 7,
   "metadata": {},
   "outputs": [
    {
     "name": "stdout",
     "output_type": "stream",
     "text": [
      "Node 'z'\n",
      "Definition: z = f(b, a)\n",
      "Parents: {'b', 'a'}\n",
      "Pseudo nodes do not provide any implementation\n"
     ]
    }
   ],
   "source": [
    "Pseudo = bn['z']\n",
    "print('Node \\'z\\'')\n",
    "print('Definition:', Pseudo)\n",
    "\n",
    "parents = {\n",
    "    'a': SingleValue(), \n",
    "    'b': Random()\n",
    "}\n",
    "print('Parents:', Pseudo.Parents)\n",
    "\n",
    "try:\n",
    "    Pseudo(parents)\n",
    "except AttributeError:\n",
    "    print('Pseudo nodes do not provide any implementation')"
   ]
  },
  {
   "cell_type": "markdown",
   "metadata": {},
   "source": [
    "## For simulation model\n",
    "\n",
    "The **'epidag.simulation'** is used to provide tools for simulation modelling. \n",
    "\n",
    "### Reasons to use 'epidag.simulation'\n",
    "- The parameters of my model have complicated interactions among each other.\n",
    "- My model includes many random effects, so I don't want to fix the parameters in the begining.\n",
    "- I don't want to rebuild my model after the parameters changed. (Intervention analysis).\n",
    "- My study include Monte Carlo inference and model fitting, so I need a convienant interface.\n",
    "\n",
    "\n",
    "### SimulationCore\n",
    "SimulationCore is a type of object carrying all the definition of a parameter model.\n",
    "\n",
    "\n",
    "### ParameterCore\n",
    "ParameterCore is a type of object can be use directly in a simulation model. A ParameterCore can be generated from its parent ParameterCore or a SimulationCore. After a ParameterCore instantiated 1) the fixed nodes are assigned, 2) the random nodes are ready to be used.\n",
    "\n",
    "### Purposed workflow\n",
    "\n",
    "Monte Carlo simulation\n",
    "1. Prepare a SimulationCore\n",
    "2. For each iteration, generate a ParameterCore\n",
    "3. Build simulation models with the ParamterCores\n",
    "4. Collect results and analysis (summarise or fit to data)"
   ]
  },
  {
   "cell_type": "markdown",
   "metadata": {},
   "source": [
    "### Example 1. Basic syntex and function, Gaussian distribution\n",
    "\n",
    "This example shows a normal variable ($x$) with a fixed mean value ($mu_x$) and a standard deviation ($sd$) distributed from an exponential distribution"
   ]
  },
  {
   "cell_type": "markdown",
   "metadata": {},
   "source": [
    "#### Step 1. generate a simulation given a Bayesian network"
   ]
  },
  {
   "cell_type": "code",
   "execution_count": 8,
   "metadata": {},
   "outputs": [],
   "source": [
    "script = '''\n",
    "PCore Exp1 {\n",
    "   mu_x = 0\n",
    "   sd ~ exp(1)\n",
    "   x ~ norm(mu_x, sd)\n",
    "}\n",
    "'''\n",
    "\n",
    "bn = dag.bn_from_script(script)\n",
    "sc = dag.as_simulation_core(bn)"
   ]
  },
  {
   "cell_type": "markdown",
   "metadata": {},
   "source": [
    "#### Step 2. Instantiate a ParameterCore which \n",
    "\n",
    "- Hyper-parameter ($sd$) is fixed to a certain value\n",
    "- A sampler of the leaf variable ($x$) is prepared"
   ]
  },
  {
   "cell_type": "code",
   "execution_count": 9,
   "metadata": {},
   "outputs": [
    {
     "data": {
      "text/plain": [
       "sd: 0.313534, mu_x: 0"
      ]
     },
     "execution_count": 9,
     "metadata": {},
     "output_type": "execute_result"
    }
   ],
   "source": [
    "pc = sc.generate(nickname='exp2')\n",
    "pc"
   ]
  },
  {
   "cell_type": "markdown",
   "metadata": {},
   "source": [
    "#### Step 3. Get sampler x from the ParameterCore and provide it to a simulation model.\n",
    "\n",
    "- The sampler can be used repeatly\n",
    "- You don't need to refer to its hyper-parameters while using"
   ]
  },
  {
   "cell_type": "code",
   "execution_count": 10,
   "metadata": {},
   "outputs": [
    {
     "data": {
      "text/plain": [
       "Actor x (norm(mu_x,sd)) on exp2"
      ]
     },
     "execution_count": 10,
     "metadata": {},
     "output_type": "execute_result"
    }
   ],
   "source": [
    "x = pc.get_sampler('x')\n",
    "x"
   ]
  },
  {
   "cell_type": "code",
   "execution_count": 11,
   "metadata": {},
   "outputs": [
    {
     "data": {
      "text/plain": [
       "(-0.16608325376726682, 0.0025263741445734475)"
      ]
     },
     "execution_count": 11,
     "metadata": {},
     "output_type": "execute_result"
    }
   ],
   "source": [
    "x(), np.mean([x() for _ in range(1000)])"
   ]
  },
  {
   "cell_type": "markdown",
   "metadata": {},
   "source": [
    "#### Step 4. Intervention\n",
    "\n",
    "You can set impulse on the ParameterCore. Then, \n",
    "- The impulse will be passed down to its downstream variables\n",
    "- You don't need to do anything to the sample  "
   ]
  },
  {
   "cell_type": "code",
   "execution_count": 12,
   "metadata": {},
   "outputs": [
    {
     "data": {
      "text/plain": [
       "sd: 5, mu_x: 100"
      ]
     },
     "execution_count": 12,
     "metadata": {},
     "output_type": "execute_result"
    }
   ],
   "source": [
    "pc.impulse({'sd': 5, 'mu_x': 100})\n",
    "pc"
   ]
  },
  {
   "cell_type": "code",
   "execution_count": 13,
   "metadata": {},
   "outputs": [
    {
     "data": {
      "text/plain": [
       "(96.79440394638456, 99.99722317895801)"
      ]
     },
     "execution_count": 13,
     "metadata": {},
     "output_type": "execute_result"
    }
   ],
   "source": [
    "x(), np.mean([x() for _ in range(1000)])"
   ]
  },
  {
   "cell_type": "markdown",
   "metadata": {},
   "source": [
    "### Example 2. Random effects, Beta-Binomial model"
   ]
  },
  {
   "cell_type": "markdown",
   "metadata": {},
   "source": [
    "Example 2 is a standard example in Baysian inference. Beta-Binomial model are used to model count data ($x$) with a latent variable, probability ($prob$). \n",
    "\n",
    "\n",
    "> dag.as_simulation_core(bn, random=[...])\n",
    "\n",
    "The option **random** defined variables which we do not want then be fixed during ParameterCore instantiation"
   ]
  },
  {
   "cell_type": "code",
   "execution_count": 14,
   "metadata": {},
   "outputs": [],
   "source": [
    "script = '''\n",
    "PCore BetaBinom {\n",
    "    alpha = 1\n",
    "    beta = 1\n",
    "    n\n",
    "    prob ~ beta(alpha, beta)\n",
    "    x ~ binom(n, prob)\n",
    "}\n",
    "'''\n",
    "\n",
    "bn = dag.bn_from_script(script)\n",
    "sc = dag.as_simulation_core(bn, random=['prob'])"
   ]
  },
  {
   "cell_type": "markdown",
   "metadata": {},
   "source": [
    "Since the variable $n$ is an exogenous variable, we introduce it to new ParameterCore by **exo={...}**.\n",
    "\n",
    "To be noticed that, $prob$ has been set as a random effect, so the variable will be requested whenever new $x$ is requested"
   ]
  },
  {
   "cell_type": "code",
   "execution_count": 15,
   "metadata": {},
   "outputs": [
    {
     "data": {
      "text/plain": [
       "n: 100, beta: 1, alpha: 1"
      ]
     },
     "execution_count": 15,
     "metadata": {},
     "output_type": "execute_result"
    }
   ],
   "source": [
    "pc = sc.generate('exp1', exo={'n': 100})\n",
    "pc"
   ]
  },
  {
   "cell_type": "markdown",
   "metadata": {},
   "source": [
    "Again, we get a sampler $x$ for the generated ParameterCore"
   ]
  },
  {
   "cell_type": "code",
   "execution_count": 16,
   "metadata": {},
   "outputs": [
    {
     "data": {
      "text/plain": [
       "20"
      ]
     },
     "execution_count": 16,
     "metadata": {},
     "output_type": "execute_result"
    }
   ],
   "source": [
    "x = pc.get_sampler('x')\n",
    "x()"
   ]
  },
  {
   "cell_type": "markdown",
   "metadata": {},
   "source": [
    "**list_all** option print all variables used to sample outcome variable. You can see that $prob$ is not a fixed variable"
   ]
  },
  {
   "cell_type": "markdown",
   "metadata": {},
   "source": [
    "### Example 3. Exposed variables,  Regression model"
   ]
  },
  {
   "cell_type": "markdown",
   "metadata": {},
   "source": [
    "The example is a linear regression model. Dependant variable ($y$) is composed of $x*b1$ and an intercept $b0$; $var=eps^2$ is a measure of variance."
   ]
  },
  {
   "cell_type": "code",
   "execution_count": 17,
   "metadata": {},
   "outputs": [],
   "source": [
    "script = '''\n",
    "PCore Regression {\n",
    "    b0 = 1\n",
    "    b1 = 0.5\n",
    "    x = 1\n",
    "    eps ~ norm(0, 1)\n",
    "    y  = x*b1 + b0 + eps\n",
    "    var = pow(eps, 2)\n",
    "}\n",
    "'''\n",
    "\n",
    "bn = dag.bn_from_script(script)"
   ]
  },
  {
   "cell_type": "markdown",
   "metadata": {},
   "source": [
    "However, $var$ is not a variable for simulation but for providing external information, so it do not need to be treated as a sampler.. "
   ]
  },
  {
   "cell_type": "code",
   "execution_count": 19,
   "metadata": {},
   "outputs": [
    {
     "name": "stdout",
     "output_type": "stream",
     "text": [
      "Fixed variables eps: -0.31515, x: 1, b1: 0.5, b0: 1\n",
      "Samplers ['y', 'var']\n"
     ]
    }
   ],
   "source": [
    "sc = dag.as_simulation_core(bn)\n",
    "pc = sc.generate('exp3-1')\n",
    "print('Fixed variables', pc)\n",
    "print('Samplers', pc.list_samplers())"
   ]
  },
  {
   "cell_type": "markdown",
   "metadata": {},
   "source": [
    "Use ** out ** option in generating ParameterCore can indicate the parameters should be exposed to a simulation model."
   ]
  },
  {
   "cell_type": "code",
   "execution_count": 20,
   "metadata": {},
   "outputs": [
    {
     "name": "stdout",
     "output_type": "stream",
     "text": [
      "Fixed variables eps: 1.57125, var: 2.46883, x: 1, b1: 0.5, b0: 1\n",
      "Samplers ['y']\n"
     ]
    }
   ],
   "source": [
    "sc = dag.as_simulation_core(bn, out=['y'])\n",
    "pc = sc.generate('exp3-2')\n",
    "print('Fixed variables', pc)\n",
    "print('Samplers', pc.list_samplers())"
   ]
  },
  {
   "cell_type": "markdown",
   "metadata": {},
   "source": [
    "### Example 4. Hierarchy, BMI model"
   ]
  },
  {
   "cell_type": "markdown",
   "metadata": {},
   "source": [
    "Example 4 describes a parameter model of a BMI (body mass index) simulation model. The model include the layers of model: country, area, and people. A country have many areas; an area have many people; there are two types of people: agA and agB. \n",
    "\n",
    "- Each area have its amount of foodstores which can provide food to people.  \n",
    "- agA and agB preform differently in the variance of BMI\n",
    "- The simulation model requests the sex of agA individuals in order to model their behavour "
   ]
  },
  {
   "cell_type": "code",
   "execution_count": 23,
   "metadata": {},
   "outputs": [],
   "source": [
    "script = '''\n",
    "PCore BMI {\n",
    "    b0 ~ norm(12, 1)\n",
    "    b1 = 0.5\n",
    "    pf ~ beta(8, 20)\n",
    "    foodstore ~ binom(100, pf)\n",
    "    b0r ~ norm(0, .01)\n",
    "    ageA #~ norm(20, 3)\n",
    "    ageB ~ norm(30, 2)\n",
    "    ps ~ beta(5, 6)\n",
    "    sexA ~ cat({'m': ps, 'f': 1-ps})\n",
    "    muA = b0 + b0r + b1*ageA\n",
    "    bmiA ~ norm(muA, sd)\n",
    "    sdB = sd * 0.5\n",
    "    muB = b0 + b0r + b1*ageB\n",
    "    bmiB ~ norm(muB, sdB)\n",
    "}\n",
    "'''\n",
    "\n",
    "bn = dag.bn_from_script(script)"
   ]
  },
  {
   "cell_type": "markdown",
   "metadata": {},
   "source": [
    "You can define hierarchies by a dictionary with \n",
    "\n",
    "1. parameter groups as keys and of respective parameters as values \n",
    "2. putting their children groups in the values as well\n",
    "\n",
    "You do not need to list every variable. The variable outside the list will be optimalised in the SimulationCore"
   ]
  },
  {
   "cell_type": "code",
   "execution_count": 24,
   "metadata": {},
   "outputs": [
    {
     "name": "stdout",
     "output_type": "stream",
     "text": [
      "country(b0, b1, sdB, sd)\n",
      "-- area(b0r, foodstore, pf, ps)\n",
      "---- agB(muB, bmiB, ageB)\n",
      "---- agA(muA, sexA, bmiA, ageA)\n"
     ]
    }
   ],
   "source": [
    "hie = {\n",
    "    'country': ['area'],\n",
    "    'area': ['b0r', 'pf', 'ps', 'foodstore', 'agA', 'agB'],\n",
    "    'agA': ['bmiA', 'ageA', 'sexA'],\n",
    "    'agB': ['bmiB', 'ageB']\n",
    "}\n",
    "\n",
    "sc = dag.as_simulation_core(bn, hie=hie,\n",
    "                            random=['muA'],\n",
    "                            out=['foodstore', 'bmiA', 'bmiB'])\n",
    "sc.deep_print()"
   ]
  },
  {
   "cell_type": "markdown",
   "metadata": {},
   "source": [
    "You can use a SimulationCore to generate a root ParameterCore and use the root to $breed$ children ParameterCores"
   ]
  },
  {
   "cell_type": "code",
   "execution_count": 26,
   "metadata": {},
   "outputs": [
    {
     "name": "stdout",
     "output_type": "stream",
     "text": [
      "Taiwan (sd: 1, sdB: 0.5, b1: 0.5, b0: 12.9394)\n",
      "-- Taipei (ps: 0.436424, b0r: 0.00432317, pf: 0.269513)\n",
      "---- A1 (sexA: f)\n",
      "---- A2 (sexA: m)\n",
      "---- B1 (ageB: 29.4376, muB: 27.6626)\n",
      "---- B2 (ageB: 31.0962, muB: 28.4918)\n"
     ]
    }
   ],
   "source": [
    "pc = sc.generate('Taiwan', {'sd': 1})\n",
    "pc_taipei = pc.breed('Taipei', 'area')\n",
    "a1 = pc_taipei.breed('A1', 'agA')\n",
    "pc_taipei.breed('A2', 'agA')\n",
    "pc_taipei.breed('B1', 'agB')\n",
    "pc_taipei.breed('B2', 'agB')\n",
    "\n",
    "pc.deep_print()"
   ]
  },
  {
   "cell_type": "code",
   "execution_count": 31,
   "metadata": {},
   "outputs": [
    {
     "ename": "TypeError",
     "evalue": "'>' not supported between instances of 'int' and 'dict'",
     "output_type": "error",
     "traceback": [
      "\u001b[1;31m---------------------------------------------------------------------------\u001b[0m",
      "\u001b[1;31mTypeError\u001b[0m                                 Traceback (most recent call last)",
      "\u001b[1;32m<ipython-input-31-92226867ce34>\u001b[0m in \u001b[0;36m<module>\u001b[1;34m()\u001b[0m\n\u001b[1;32m----> 1\u001b[1;33m \u001b[0ma1\u001b[0m\u001b[1;33m.\u001b[0m\u001b[0mget_sampler\u001b[0m\u001b[1;33m(\u001b[0m\u001b[1;34m'bmiA'\u001b[0m\u001b[1;33m)\u001b[0m\u001b[1;33m.\u001b[0m\u001b[0msample\u001b[0m\u001b[1;33m(\u001b[0m\u001b[1;33m{\u001b[0m\u001b[1;34m'ageA'\u001b[0m\u001b[1;33m:\u001b[0m \u001b[1;36m30\u001b[0m\u001b[1;33m}\u001b[0m\u001b[1;33m)\u001b[0m\u001b[1;33m\u001b[0m\u001b[0m\n\u001b[0m",
      "\u001b[1;32mD:\\Model\\PyEpiDAG\\epidag\\simulation\\actor.py\u001b[0m in \u001b[0;36msample\u001b[1;34m(self, n)\u001b[0m\n\u001b[0;32m     96\u001b[0m         \u001b[1;33m:\u001b[0m\u001b[1;32mreturn\u001b[0m\u001b[1;33m:\u001b[0m \u001b[0ma\u001b[0m \u001b[0mlist\u001b[0m \u001b[0mof\u001b[0m \u001b[0mvalues\u001b[0m\u001b[1;33m\u001b[0m\u001b[0m\n\u001b[0;32m     97\u001b[0m         \"\"\"\n\u001b[1;32m---> 98\u001b[1;33m         \u001b[0mn\u001b[0m \u001b[1;33m=\u001b[0m \u001b[0mmax\u001b[0m\u001b[1;33m(\u001b[0m\u001b[0mn\u001b[0m\u001b[1;33m,\u001b[0m \u001b[1;36m1\u001b[0m\u001b[1;33m)\u001b[0m\u001b[1;33m\u001b[0m\u001b[0m\n\u001b[0m\u001b[0;32m     99\u001b[0m         \u001b[1;32mreturn\u001b[0m \u001b[1;33m[\u001b[0m\u001b[0mself\u001b[0m\u001b[1;33m(\u001b[0m\u001b[1;33m)\u001b[0m \u001b[1;32mfor\u001b[0m \u001b[0m_\u001b[0m \u001b[1;32min\u001b[0m \u001b[0mrange\u001b[0m\u001b[1;33m(\u001b[0m\u001b[0mn\u001b[0m\u001b[1;33m)\u001b[0m\u001b[1;33m]\u001b[0m\u001b[1;33m\u001b[0m\u001b[0m\n\u001b[0;32m    100\u001b[0m \u001b[1;33m\u001b[0m\u001b[0m\n",
      "\u001b[1;31mTypeError\u001b[0m: '>' not supported between instances of 'int' and 'dict'"
     ]
    }
   ],
   "source": [
    "a1.get_sampler('bmiA').sample({'ageA': 30})"
   ]
  },
  {
   "cell_type": "code",
   "execution_count": 23,
   "metadata": {},
   "outputs": [
    {
     "name": "stdout",
     "output_type": "stream",
     "text": [
      "Get node from it parent\n",
      "A1 (sexA: m, ageA: 16.9412)\n",
      "\n",
      "Get a node from root: use '@' to link names of ParameterCores\n",
      "A1 (sexA: m, ageA: 16.9412)\n"
     ]
    }
   ],
   "source": [
    "print('Get node from it parent')\n",
    "a1 = pc_taipei.get_child('A1')\n",
    "a1.print()\n",
    "\n",
    "print('\\nGet a node from root: use \\'@\\' to link names of ParameterCores')\n",
    "a1 = pc.find_descendant('Taiwan@Taipei@A1')\n",
    "a1.print()"
   ]
  },
  {
   "cell_type": "markdown",
   "metadata": {},
   "source": [
    "When putting intervention in a node, the impulse will be passed to its children node automatically."
   ]
  },
  {
   "cell_type": "code",
   "execution_count": 24,
   "metadata": {},
   "outputs": [
    {
     "name": "stdout",
     "output_type": "stream",
     "text": [
      "Taiwan (sd: 1, sdB: 0.5, b1: 0.5, b0: 11.9491)\n",
      "-- Taipei (ps: 0.376936, b0r: 10, pf: 0.20124)\n",
      "---- A1 (sexA: m, ageA: 16.9412)\n",
      "---- A2 (sexA: f, ageA: 17.8061)\n",
      "---- B1 (ageB: 30.1127, muB: 37.0055)\n",
      "---- B2 (ageB: 32.6431, muB: 38.2706)\n"
     ]
    }
   ],
   "source": [
    "# see the change of muB\n",
    "pc.impulse({'b0r': 10})\n",
    "pc.deep_print()"
   ]
  },
  {
   "cell_type": "code",
   "execution_count": 25,
   "metadata": {},
   "outputs": [
    {
     "name": "stdout",
     "output_type": "stream",
     "text": [
      "Taiwan (sd: 1, sdB: 0.5, b1: 0.5, b0: 11.9491)\n",
      "-- Taipei (ps: 0.376936, b0r: 0.0105471, pf: 0.20124)\n",
      "---- A1 (sexA: m, ageA: 16.9412)\n",
      "---- A2 (sexA: f, ageA: 17.8061)\n",
      "---- B1 (ageB: 30.1127, muB: 27.016)\n",
      "---- B2 (ageB: 32.6431, muB: 28.2812)\n"
     ]
    }
   ],
   "source": [
    "pc.impulse(['b0r'])\n",
    "pc.deep_print()"
   ]
  },
  {
   "cell_type": "markdown",
   "metadata": {},
   "source": [
    "### Example 5. A simple agent-based model "
   ]
  },
  {
   "cell_type": "code",
   "execution_count": 26,
   "metadata": {},
   "outputs": [],
   "source": [
    "script = '''\n",
    "PCore BetaBin {\n",
    "    al = 1\n",
    "    be = 1\n",
    "    p ~ beta(al, be)\n",
    "    x ~ binom(5, p)\n",
    "}\n",
    "'''\n",
    "\n",
    "\n",
    "bn = dag.bn_from_script(script)\n",
    "\n",
    "hie = {\n",
    "    'root': ['ag'],\n",
    "    'ag': ['x']\n",
    "}\n",
    "\n",
    "sm = dag.as_simulation_core(bn, hie)\n"
   ]
  },
  {
   "cell_type": "code",
   "execution_count": 27,
   "metadata": {},
   "outputs": [],
   "source": [
    "class Agent:\n",
    "    def __init__(self, name, p):\n",
    "        self.Name = name\n",
    "        self.Parameters = p\n",
    "        self.X = p.get_sampler('x')\n",
    "        \n",
    "    def produce(self, k):\n",
    "        return self.X.sample(k)\n",
    "\n",
    "class AgentBasedModel:\n",
    "    def __init__(self, pars, n_agents):\n",
    "        self.Parameters = pars\n",
    "        self.Agents = list()\n",
    "        for i in range(n_agents):\n",
    "            name = 'Ag{}'.format(i)\n",
    "            p = pars.breed(name, 'ag')\n",
    "            self.Agents.append(Agent(name, p))\n",
    "        \n",
    "    def product(self, k):\n",
    "        return np.array([ag.produce(k) for ag in self.Agents]).sum()\n",
    "        \n",
    "        \n",
    "        \n",
    "def fn_sim(pars, data):\n",
    "    abm = AgentBasedModel(pars, data['N'])\n",
    "    return abm.product(data['K'])\n",
    "\n",
    "def fn_mean(sim, data):\n",
    "    return -abs(sim - data['X'])"
   ]
  },
  {
   "cell_type": "code",
   "execution_count": 28,
   "metadata": {},
   "outputs": [],
   "source": [
    "pars = sm.generate('Simu A')\n",
    "\n",
    "abm = AgentBasedModel(pars, 5)"
   ]
  },
  {
   "cell_type": "code",
   "execution_count": 29,
   "metadata": {},
   "outputs": [
    {
     "data": {
      "text/plain": [
       "2246"
      ]
     },
     "execution_count": 29,
     "metadata": {},
     "output_type": "execute_result"
    }
   ],
   "source": [
    "abm.product(100)"
   ]
  },
  {
   "cell_type": "code",
   "execution_count": 30,
   "metadata": {},
   "outputs": [
    {
     "data": {
      "text/plain": [
       "(120, -80)"
      ]
     },
     "execution_count": 30,
     "metadata": {},
     "output_type": "execute_result"
    }
   ],
   "source": [
    "d = {\n",
    "    'N': 10,\n",
    "    'K': 10,\n",
    "    'X': 200\n",
    "}\n",
    "pars = sm.generate('Simu A')\n",
    "sim = fn_sim(pars, d)\n",
    "mea = fn_mean(sim, d)\n",
    "sim, mea"
   ]
  },
  {
   "cell_type": "code",
   "execution_count": 31,
   "metadata": {},
   "outputs": [],
   "source": [
    "sdm = dag.as_simulation_data_model(sm, d, fn_sim, fn_mean)"
   ]
  },
  {
   "cell_type": "code",
   "execution_count": 32,
   "metadata": {},
   "outputs": [
    {
     "data": {
      "text/html": [
       "<div>\n",
       "<style scoped>\n",
       "    .dataframe tbody tr th:only-of-type {\n",
       "        vertical-align: middle;\n",
       "    }\n",
       "\n",
       "    .dataframe tbody tr th {\n",
       "        vertical-align: top;\n",
       "    }\n",
       "\n",
       "    .dataframe thead th {\n",
       "        text-align: right;\n",
       "    }\n",
       "</style>\n",
       "<table border=\"1\" class=\"dataframe\">\n",
       "  <thead>\n",
       "    <tr style=\"text-align: right;\">\n",
       "      <th></th>\n",
       "      <th>al</th>\n",
       "      <th>be</th>\n",
       "      <th>p</th>\n",
       "    </tr>\n",
       "  </thead>\n",
       "  <tbody>\n",
       "    <tr>\n",
       "      <th>count</th>\n",
       "      <td>100.0</td>\n",
       "      <td>100.0</td>\n",
       "      <td>100.000000</td>\n",
       "    </tr>\n",
       "    <tr>\n",
       "      <th>mean</th>\n",
       "      <td>1.0</td>\n",
       "      <td>1.0</td>\n",
       "      <td>0.401672</td>\n",
       "    </tr>\n",
       "    <tr>\n",
       "      <th>std</th>\n",
       "      <td>0.0</td>\n",
       "      <td>0.0</td>\n",
       "      <td>0.032490</td>\n",
       "    </tr>\n",
       "    <tr>\n",
       "      <th>min</th>\n",
       "      <td>1.0</td>\n",
       "      <td>1.0</td>\n",
       "      <td>0.339799</td>\n",
       "    </tr>\n",
       "    <tr>\n",
       "      <th>25%</th>\n",
       "      <td>1.0</td>\n",
       "      <td>1.0</td>\n",
       "      <td>0.374257</td>\n",
       "    </tr>\n",
       "    <tr>\n",
       "      <th>50%</th>\n",
       "      <td>1.0</td>\n",
       "      <td>1.0</td>\n",
       "      <td>0.400780</td>\n",
       "    </tr>\n",
       "    <tr>\n",
       "      <th>75%</th>\n",
       "      <td>1.0</td>\n",
       "      <td>1.0</td>\n",
       "      <td>0.427661</td>\n",
       "    </tr>\n",
       "    <tr>\n",
       "      <th>max</th>\n",
       "      <td>1.0</td>\n",
       "      <td>1.0</td>\n",
       "      <td>0.468617</td>\n",
       "    </tr>\n",
       "  </tbody>\n",
       "</table>\n",
       "</div>"
      ],
      "text/plain": [
       "          al     be           p\n",
       "count  100.0  100.0  100.000000\n",
       "mean     1.0    1.0    0.401672\n",
       "std      0.0    0.0    0.032490\n",
       "min      1.0    1.0    0.339799\n",
       "25%      1.0    1.0    0.374257\n",
       "50%      1.0    1.0    0.400780\n",
       "75%      1.0    1.0    0.427661\n",
       "max      1.0    1.0    0.468617"
      ]
     },
     "execution_count": 32,
     "metadata": {},
     "output_type": "execute_result"
    }
   ],
   "source": [
    "fit = dag.fitting.ABC(sdm)\n",
    "fit.fit(100)\n",
    "fit.report_posterior()"
   ]
  },
  {
   "cell_type": "code",
   "execution_count": 33,
   "metadata": {},
   "outputs": [
    {
     "name": "stdout",
     "output_type": "stream",
     "text": [
      "City(beta, betaF, gamma)\n",
      "-- abm()\n",
      "---- agent(InfectF, Infect, Recov)\n",
      "-- ebm()\n"
     ]
    }
   ],
   "source": [
    "psc = '''\n",
    "PCore MultiSIR {\n",
    "    beta = 1.5\n",
    "    betaF = 1.0\n",
    "    gamma = 0.2\n",
    "    Infect ~ exp(beta)\n",
    "    InfectF ~ exp(betaF)\n",
    "    Recov ~ exp(0.5)\n",
    "}\n",
    "'''\n",
    "\n",
    "\n",
    "bn = dag.bn_from_script(psc)\n",
    "\n",
    "hie = {\n",
    "    'City': ['abm', 'ebm'],\n",
    "    'abm': ['agent'],\n",
    "    'agent': ['Infect', 'InfectF', 'Recov'],\n",
    "    'ebm': []\n",
    "\n",
    "}\n",
    "\n",
    "\n",
    "sm = dag.as_simulation_core(bn, hie=hie)\n",
    "sm.deep_print()"
   ]
  },
  {
   "cell_type": "code",
   "execution_count": 34,
   "metadata": {},
   "outputs": [
    {
     "data": {
      "text/plain": [
       "gamma: 0.2, beta: 1.5"
      ]
     },
     "execution_count": 34,
     "metadata": {},
     "output_type": "execute_result"
    }
   ],
   "source": [
    "psc = '''\n",
    "PCore SIR {\n",
    "    beta = 1.5\n",
    "    gamma = 0.2\n",
    "    Infect ~ exp(beta)\n",
    "    Recov ~ exp(gamma)\n",
    "}\n",
    "'''\n",
    "\n",
    "\n",
    "bn = dag.bn_from_script(psc)\n",
    "\n",
    "hie = {\n",
    "    'abm': ['agent'],\n",
    "    'agent': ['beta', 'gamma', 'Infect', 'Recov'],\n",
    "}\n",
    "\n",
    "\n",
    "root =dag.form_hierarchy(bn, hie)\n",
    "sm = dag.as_simulation_core(bn, hie=hie)\n",
    "pc = sm.generate()\n",
    "pca = pc.breed('ag1', 'agent')\n",
    "pca"
   ]
  },
  {
   "cell_type": "code",
   "execution_count": 35,
   "metadata": {},
   "outputs": [
    {
     "data": {
      "text/plain": [
       "gamma: 0.2, beta: 1.5, Infect: 1.17826, Recov: 2.85204"
      ]
     },
     "execution_count": 35,
     "metadata": {},
     "output_type": "execute_result"
    }
   ],
   "source": [
    "pca.freeze()\n",
    "pca"
   ]
  }
 ],
 "metadata": {
  "kernelspec": {
   "display_name": "Python 3",
   "language": "python",
   "name": "python3"
  },
  "language_info": {
   "codemirror_mode": {
    "name": "ipython",
    "version": 3
   },
   "file_extension": ".py",
   "mimetype": "text/x-python",
   "name": "python",
   "nbconvert_exporter": "python",
   "pygments_lexer": "ipython3",
   "version": "3.6.5"
  }
 },
 "nbformat": 4,
 "nbformat_minor": 2
}
