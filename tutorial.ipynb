{
 "cells": [
  {
   "cell_type": "markdown",
   "metadata": {},
   "source": [
    "## Load PyEpiDAG"
   ]
  },
  {
   "cell_type": "code",
   "execution_count": 1,
   "metadata": {},
   "outputs": [],
   "source": [
    "import epidag as dag\n",
    "import numpy as np"
   ]
  },
  {
   "cell_type": "markdown",
   "metadata": {},
   "source": [
    "## Define a DAG"
   ]
  },
  {
   "cell_type": "markdown",
   "metadata": {},
   "source": [
    "Compose a script\n",
    "\n",
    "```\n",
    "PCore Exp1 {\n",
    "    # Definitions of nodes\n",
    "}\n",
    "```\n",
    "\n",
    "Then, .. parse to a DAG"
   ]
  },
  {
   "cell_type": "code",
   "execution_count": 2,
   "metadata": {},
   "outputs": [
    {
     "data": {
      "text/plain": [
       "BayesNet(Name: Exp1, Nodes: ['b', 'a', 'z', 'c', 'n', 'y'])"
      ]
     },
     "execution_count": 2,
     "metadata": {},
     "output_type": "execute_result"
    }
   ],
   "source": [
    "script = '''\n",
    "PCore Exp1 {\n",
    "    n\n",
    "    a = 0.5 \n",
    "    b ~ beta(1, 1)\n",
    "    c = min(a, b)\n",
    "    y ~ binom(n, c)\n",
    "    z = f(a,b)\n",
    "}\n",
    "'''\n",
    "\n",
    "bn = dag.bayes_net_from_script(script)\n",
    "bn"
   ]
  },
  {
   "cell_type": "markdown",
   "metadata": {},
   "source": [
    "### Single value variable\n",
    "\n",
    "\n",
    "> VariableName = Number \n"
   ]
  },
  {
   "cell_type": "code",
   "execution_count": 3,
   "metadata": {},
   "outputs": [
    {
     "name": "stdout",
     "output_type": "stream",
     "text": [
      "Node 'a'\n",
      "Definition: a = 0.5\n",
      "\n",
      "Find the value\n",
      "0.5\n"
     ]
    }
   ],
   "source": [
    "SingleValue = bn['a']\n",
    "print('Node \\'a\\'')\n",
    "print('Definition:', SingleValue)\n",
    "\n",
    "print('\\nFind the value')\n",
    "print(SingleValue())"
   ]
  },
  {
   "cell_type": "markdown",
   "metadata": {},
   "source": [
    "### Exogenous variable\n",
    "\n",
    "> VariableName"
   ]
  },
  {
   "cell_type": "code",
   "execution_count": 4,
   "metadata": {},
   "outputs": [
    {
     "name": "stdout",
     "output_type": "stream",
     "text": [
      "Node 'n'\n",
      "Definition: n\n",
      "\n",
      "Find the value; must append external resources\n",
      "5\n"
     ]
    }
   ],
   "source": [
    "Exogenous = bn['n']\n",
    "print('Node \\'n\\'')\n",
    "print('Definition:', Exogenous)\n",
    "\n",
    "print('\\nFind the value; must append external resources')\n",
    "print(Exogenous({'n': 5}))"
   ]
  },
  {
   "cell_type": "markdown",
   "metadata": {},
   "source": [
    "### Random variable\n",
    "\n",
    "> VariableName ~ p(...)\n",
    "\n",
    "** p(...) **: a probabilidy density/mass function"
   ]
  },
  {
   "cell_type": "code",
   "execution_count": 5,
   "metadata": {},
   "outputs": [
    {
     "name": "stdout",
     "output_type": "stream",
     "text": [
      "Node 'b'\n",
      "Definition: b ~ beta(1,1)\n",
      "\n",
      "Sample a value\n",
      "0.6502721460738669\n"
     ]
    }
   ],
   "source": [
    "Random = bn['b']\n",
    "print('Node \\'b\\'')\n",
    "print('Definition:', Random)\n",
    "\n",
    "print('\\nSample a value')\n",
    "print(Random())"
   ]
  },
  {
   "cell_type": "markdown",
   "metadata": {},
   "source": [
    "### Equation output\n",
    "\n",
    "> OutputName = g(...)\n",
    "\n",
    "** g(...) **: a mathematical function"
   ]
  },
  {
   "cell_type": "code",
   "execution_count": 6,
   "metadata": {},
   "outputs": [
    {
     "name": "stdout",
     "output_type": "stream",
     "text": [
      "Node 'c'\n",
      "Definition: c = min(a,b)\n",
      "\n",
      "Calculate a value\n",
      "0.11925571334933369\n"
     ]
    }
   ],
   "source": [
    "Equation = bn['c']\n",
    "print('Node \\'c\\'')\n",
    "print('Definition:', Equation)\n",
    "\n",
    "parents = {\n",
    "    'a': SingleValue(), \n",
    "    'b': Random() \n",
    "}\n",
    "\n",
    "print('\\nCalculate a value')\n",
    "print(Equation(parents))"
   ]
  },
  {
   "cell_type": "markdown",
   "metadata": {},
   "source": [
    "### Pseudo Node\n",
    "Pseudo nodes are the nodes which can not be implemented in simulation but in relation inference.\n",
    "\n",
    "> VariableName = f(...)\n",
    "\n",
    "** f(...) **: a pseudo function start with ** f ** and a list of parent variables follows"
   ]
  },
  {
   "cell_type": "code",
   "execution_count": 7,
   "metadata": {},
   "outputs": [
    {
     "name": "stdout",
     "output_type": "stream",
     "text": [
      "Node 'z'\n",
      "Definition: z = f(b, a)\n",
      "Parents: {'b', 'a'}\n",
      "Pseudo nodes do not provide any implementation\n"
     ]
    }
   ],
   "source": [
    "Pseudo = bn['z']\n",
    "print('Node \\'z\\'')\n",
    "print('Definition:', Pseudo)\n",
    "\n",
    "parents = {\n",
    "    'a': SingleValue(), \n",
    "    'b': Random()\n",
    "}\n",
    "print('Parents:', Pseudo.Parents)\n",
    "\n",
    "try:\n",
    "    Pseudo(parents)\n",
    "except AttributeError:\n",
    "    print('Pseudo nodes do not provide any implementation')"
   ]
  },
  {
   "cell_type": "markdown",
   "metadata": {},
   "source": [
    "## For simulation model\n",
    "\n",
    "The **'epidag.simulation'** is used to provide tools for simulation modelling. \n",
    "\n",
    "### Reasons to use 'epidag.simulation'\n",
    "- The parameters of my model have complicated interactions among each other.\n",
    "- My model includes many random effects, so I don't want to fix the parameters in the begining.\n",
    "- I don't want to rebuild my model after the parameters changed. (Intervention analysis).\n",
    "- My study include Monte Carlo inference and model fitting, so I need a convienant interface.\n",
    "\n",
    "\n",
    "### SimulationCore\n",
    "SimulationCore is a type of object carrying all the definition of a parameter model.\n",
    "\n",
    "\n",
    "### ParameterCore\n",
    "ParameterCore is a type of object can be use directly in a simulation model. A ParameterCore can be generated from its parent ParameterCore or a SimulationCore. After a ParameterCore instantiated 1) the fixed nodes are assigned, 2) the random nodes are ready to be used.\n",
    "\n",
    "### Purposed workflow\n",
    "\n",
    "Monte Carlo simulation\n",
    "1. Prepare a SimulationCore\n",
    "2. For each iteration, generate a ParameterCore\n",
    "3. Build simulation models with the ParamterCores\n",
    "4. Collect results and analysis (summarise or fit to data)"
   ]
  },
  {
   "cell_type": "markdown",
   "metadata": {},
   "source": [
    "### Example 1. Basic syntex and function, Gaussian distribution\n",
    "\n",
    "This example shows a normal variable ($x$) with a fixed mean value ($mu_x$) and a standard deviation ($sd$) distributed from an exponential distribution"
   ]
  },
  {
   "cell_type": "markdown",
   "metadata": {},
   "source": [
    "#### Step 1. generate a simulation given a Bayesian network"
   ]
  },
  {
   "cell_type": "code",
   "execution_count": 8,
   "metadata": {},
   "outputs": [],
   "source": [
    "script = '''\n",
    "PCore Exp1 {\n",
    "   mu_x = 0\n",
    "   sd ~ exp(1)\n",
    "   x ~ norm(mu_x, sd)\n",
    "}\n",
    "'''\n",
    "\n",
    "bn = dag.bayes_net_from_script(script)\n",
    "sc = dag.as_simulation_core(bn, dag.NodeSet('root', as_fixed=['mu_x', 'sd'], as_floating=['x']))"
   ]
  },
  {
   "cell_type": "markdown",
   "metadata": {},
   "source": [
    "#### Step 2. Instantiate a ParameterCore which \n",
    "\n",
    "- Hyper-parameter ($sd$) is fixed to a certain value\n",
    "- A sampler of the leaf variable ($x$) is prepared"
   ]
  },
  {
   "cell_type": "code",
   "execution_count": 9,
   "metadata": {},
   "outputs": [
    {
     "data": {
      "text/plain": [
       "sd: 1.96117, mu_x: 30"
      ]
     },
     "execution_count": 9,
     "metadata": {},
     "output_type": "execute_result"
    }
   ],
   "source": [
    "pc = sc.generate(nickname='exp2', exo={'mu_x': 30})\n",
    "pc"
   ]
  },
  {
   "cell_type": "code",
   "execution_count": 10,
   "metadata": {},
   "outputs": [
    {
     "data": {
      "text/plain": [
       "[30.311531857317352,\n",
       " 34.92522331199986,\n",
       " 28.469336140212086,\n",
       " 26.814695661154797,\n",
       " 28.83362737806185]"
      ]
     },
     "execution_count": 10,
     "metadata": {},
     "output_type": "execute_result"
    }
   ],
   "source": [
    "pc.get_sampler('x').sample(5)"
   ]
  },
  {
   "cell_type": "markdown",
   "metadata": {},
   "source": [
    "#### Step 3. Get sampler x from the ParameterCore and provide it to a simulation model.\n",
    "\n",
    "- The sampler can be used repeatly\n",
    "- You don't need to refer to its hyper-parameters while using"
   ]
  },
  {
   "cell_type": "code",
   "execution_count": 11,
   "metadata": {},
   "outputs": [
    {
     "data": {
      "text/plain": [
       "Actor( x (norm(mu_x,sd)) on exp2)"
      ]
     },
     "execution_count": 11,
     "metadata": {},
     "output_type": "execute_result"
    }
   ],
   "source": [
    "x = pc.get_sampler('x')\n",
    "x"
   ]
  },
  {
   "cell_type": "code",
   "execution_count": 12,
   "metadata": {},
   "outputs": [
    {
     "data": {
      "text/plain": [
       "(28.398613634094524, 29.990134882625615)"
      ]
     },
     "execution_count": 12,
     "metadata": {},
     "output_type": "execute_result"
    }
   ],
   "source": [
    "x(), np.mean(x.sample(1000))"
   ]
  },
  {
   "cell_type": "markdown",
   "metadata": {},
   "source": [
    "#### Step 4. Intervention\n",
    "\n",
    "You can set impulse on the ParameterCore. Then, \n",
    "- The impulse will be passed down to its downstream variables\n",
    "- You don't need to do anything to the sample  "
   ]
  },
  {
   "cell_type": "code",
   "execution_count": 13,
   "metadata": {},
   "outputs": [
    {
     "data": {
      "text/plain": [
       "sd: 5, mu_x: 100"
      ]
     },
     "execution_count": 13,
     "metadata": {},
     "output_type": "execute_result"
    }
   ],
   "source": [
    "pc.impulse({'sd': 5, 'mu_x': 100})\n",
    "pc"
   ]
  },
  {
   "cell_type": "code",
   "execution_count": 14,
   "metadata": {},
   "outputs": [
    {
     "data": {
      "text/plain": [
       "(97.87939930763584, 99.97658505621928)"
      ]
     },
     "execution_count": 14,
     "metadata": {},
     "output_type": "execute_result"
    }
   ],
   "source": [
    "x(), np.mean(x.sample(1000))"
   ]
  },
  {
   "cell_type": "markdown",
   "metadata": {},
   "source": [
    "### Example 2. Random effects, Beta-Binomial model"
   ]
  },
  {
   "cell_type": "markdown",
   "metadata": {},
   "source": [
    "Example 2 is a standard example in Baysian inference. Beta-Binomial model are used to model count data ($x$) with a latent variable, probability ($prob$). \n",
    "\n",
    "\n",
    "> dag.as_simulation_core(bn, random=[...])\n",
    "\n",
    "The option **random** defined variables which we do not want then be fixed during ParameterCore instantiation"
   ]
  },
  {
   "cell_type": "code",
   "execution_count": 15,
   "metadata": {},
   "outputs": [
    {
     "name": "stdout",
     "output_type": "stream",
     "text": [
      "NodeSet root\n",
      "|-Fixed ['n', 'beta', 'alpha']\n",
      "|-Floating {'x', 'prob'}\n",
      "|-Exo set()\n",
      "|-Listening set()\n"
     ]
    }
   ],
   "source": [
    "script = '''\n",
    "PCore BetaBinom {\n",
    "    alpha = 1\n",
    "    beta = 1\n",
    "    n\n",
    "    prob ~ beta(alpha, beta)\n",
    "    x ~ binom(n, prob)\n",
    "}\n",
    "'''\n",
    "\n",
    "bn = dag.bayes_net_from_script(script)\n",
    "sc = dag.as_simulation_core(bn, dag.NodeSet('root', as_floating=['x']))\n",
    "sc.deep_print()"
   ]
  },
  {
   "cell_type": "markdown",
   "metadata": {},
   "source": [
    "Since the variable $n$ is an exogenous variable, we introduce it to new ParameterCore by **exo={...}**.\n",
    "\n",
    "To be noticed that, $prob$ has been set as a random effect, so the variable will be requested whenever new $x$ is requested"
   ]
  },
  {
   "cell_type": "code",
   "execution_count": 16,
   "metadata": {},
   "outputs": [
    {
     "data": {
      "text/plain": [
       "n: 100, beta: 1, alpha: 1"
      ]
     },
     "execution_count": 16,
     "metadata": {},
     "output_type": "execute_result"
    }
   ],
   "source": [
    "pc = sc.generate('exp1', exo={'n': 100})\n",
    "pc"
   ]
  },
  {
   "cell_type": "markdown",
   "metadata": {},
   "source": [
    "Again, we get a sampler $x$ for the generated ParameterCore"
   ]
  },
  {
   "cell_type": "code",
   "execution_count": 17,
   "metadata": {},
   "outputs": [
    {
     "data": {
      "text/plain": [
       "(70, 50.817)"
      ]
     },
     "execution_count": 17,
     "metadata": {},
     "output_type": "execute_result"
    }
   ],
   "source": [
    "x = pc.get_sampler('x')\n",
    "x(), np.mean(x.sample(1000))"
   ]
  },
  {
   "cell_type": "markdown",
   "metadata": {},
   "source": [
    "**list_all** option print all variables used to sample outcome variable. You can see that $prob$ is not a fixed variable"
   ]
  },
  {
   "cell_type": "markdown",
   "metadata": {},
   "source": [
    "### Example 3. Exposed variables,  Regression model"
   ]
  },
  {
   "cell_type": "markdown",
   "metadata": {},
   "source": [
    "The example is a linear regression model. Dependant variable ($y$) is composed of $x*b1$ and an intercept $b0$; $var=eps^2$ is a measure of variance."
   ]
  },
  {
   "cell_type": "code",
   "execution_count": 18,
   "metadata": {},
   "outputs": [
    {
     "name": "stdout",
     "output_type": "stream",
     "text": [
      "NodeSet root\n",
      "|-Fixed ['x', 'b1', 'b0']\n",
      "|-Floating {'eps', 'y', 'var'}\n",
      "|-Exo set()\n",
      "|-Listening set()\n"
     ]
    }
   ],
   "source": [
    "script = '''\n",
    "PCore Regression {\n",
    "    b0 = 1\n",
    "    b1 = 0.5\n",
    "    x = 1\n",
    "    eps ~ norm(0, 1)\n",
    "    y  = x*b1 + b0 + eps\n",
    "    var = pow(eps, 2)\n",
    "}\n",
    "'''\n",
    "\n",
    "bn = dag.bayes_net_from_script(script)\n",
    "sc = dag.as_simulation_core(bn, dag.NodeSet('root', as_fixed=['b0', 'b1', 'x'], as_floating=['var', 'y']))\n",
    "sc.deep_print()"
   ]
  },
  {
   "cell_type": "markdown",
   "metadata": {},
   "source": [
    "However, $var$ is not a variable for simulation but for providing external information, so it do not need to be treated as a sampler.. "
   ]
  },
  {
   "cell_type": "code",
   "execution_count": 19,
   "metadata": {},
   "outputs": [
    {
     "name": "stdout",
     "output_type": "stream",
     "text": [
      "Fixed variables x: 1, b1: 0.5, b0: 1\n",
      "Samplers ['eps', 'y', 'var']\n"
     ]
    }
   ],
   "source": [
    "pc = sc.generate('exp3-1')\n",
    "print('Fixed variables', pc)\n",
    "print('Samplers', pc.list_actors())"
   ]
  },
  {
   "cell_type": "markdown",
   "metadata": {},
   "source": [
    "### Example 4. Hierarchy, BMI model"
   ]
  },
  {
   "cell_type": "markdown",
   "metadata": {},
   "source": [
    "Example 4 describes a parameter model of a BMI (body mass index) simulation model. The model include the layers of model: country, area, and people. A country have many areas; an area have many people; there are two types of people: agA and agB. \n",
    "\n",
    "- Each area have its amount of foodstores which can provide food to people.  \n",
    "- agA and agB preform differently in the variance of BMI\n",
    "- The simulation model requests the sex of agA individuals in order to model their behavour "
   ]
  },
  {
   "cell_type": "code",
   "execution_count": 20,
   "metadata": {},
   "outputs": [],
   "source": [
    "script = '''\n",
    "PCore BMI {\n",
    "    b0 ~ norm(12, 1)\n",
    "    b1 = 0.5\n",
    "    pf ~ beta(8, 20)\n",
    "    foodstore ~ binom(100, pf)\n",
    "    b0r ~ norm(0, .01)\n",
    "    ageA ~ norm(20, 3)\n",
    "    ageB ~ norm(30, 2)\n",
    "    ps ~ beta(5, 6)\n",
    "    sexA ~ cat({'m': ps, 'f': 1-ps})\n",
    "    muA = b0 + b0r + b1*ageA\n",
    "    bmiA ~ norm(muA, sd)\n",
    "    sdB = sd * 0.5\n",
    "    muB = b0 + b0r + b1*ageB\n",
    "    bmiB ~ norm(muB, sdB)\n",
    "}\n",
    "'''\n",
    "\n",
    "bn = dag.bayes_net_from_script(script)"
   ]
  },
  {
   "cell_type": "markdown",
   "metadata": {},
   "source": [
    "You can define hierarchies by a dictionary with \n",
    "\n",
    "1. parameter groups as keys and of respective parameters as values \n",
    "2. putting their children groups in the values as well\n",
    "\n",
    "You do not need to list every variable. The variable outside the list will be optimalised in the SimulationCore"
   ]
  },
  {
   "cell_type": "code",
   "execution_count": 21,
   "metadata": {},
   "outputs": [
    {
     "name": "stdout",
     "output_type": "stream",
     "text": [
      "NodeSet country\n",
      "|-Fixed ['sd', 'sdB', 'b1', 'b0']\n",
      "|-Floating set()\n",
      "|-Exo set()\n",
      "|-Listening set()\n",
      "|-NodeSet area\n",
      "  |-Fixed ['ps', 'b0r', 'pf']\n",
      "  |-Floating {'foodstore'}\n",
      "  |-Exo set()\n",
      "  |-Listening set()\n",
      "  |-NodeSet agA\n",
      "    |-Fixed ['sexA', 'ageA', 'muA']\n",
      "    |-Floating {'bmiA'}\n",
      "    |-Exo {'b1', 'b0', 'b0r', 'ps'}\n",
      "    |-Listening {'sd'}\n",
      "  |-NodeSet agB\n",
      "    |-Fixed ['ageB', 'muB']\n",
      "    |-Floating {'bmiB'}\n",
      "    |-Exo {'b0r', 'b0', 'b1'}\n",
      "    |-Listening {'sd', 'sdB'}\n"
     ]
    }
   ],
   "source": [
    "ns = dag.NodeSet('country', as_fixed=['sdB', 'b0'])\n",
    "ns_area = ns.new_child('area', as_fixed=['b0r', 'ps', 'pf'], as_floating=['foodstore'])\n",
    "nsa = ns_area.new_child('agA', as_fixed=['ageA', 'sexA'], as_floating=['bmiA'])\n",
    "ns_area.new_child('agB', as_fixed=['ageB'], as_floating=['bmiB'])\n",
    "\n",
    "sc = dag.as_simulation_core(bn, ns)\n",
    "sc.deep_print()"
   ]
  },
  {
   "cell_type": "markdown",
   "metadata": {},
   "source": [
    "You can use a SimulationCore to generate a root ParameterCore and use the root to $breed$ children ParameterCores"
   ]
  },
  {
   "cell_type": "code",
   "execution_count": 22,
   "metadata": {},
   "outputs": [
    {
     "name": "stdout",
     "output_type": "stream",
     "text": [
      "Taiwan (sd: 1, sdB: 0.5, b1: 0.5, b0: 11.9375)\n",
      "-- Taipei (ps: 0.473978, b0r: 0.00425982, pf: 0.2168)\n",
      "---- A1 (sexA: f, ageA: 17.5429, muA: 20.7132)\n",
      "---- A2 (sexA: f, ageA: 23.0762, muA: 23.4798)\n",
      "---- B1 (ageB: 29.6702, muB: 26.7768)\n",
      "---- B2 (ageB: 33.0408, muB: 28.4621)\n"
     ]
    }
   ],
   "source": [
    "pc = sc.generate('Taiwan', {'sd': 1})\n",
    "pc_taipei = pc.breed('Taipei', 'area')\n",
    "a1 = pc_taipei.breed('A1', 'agA')\n",
    "pc_taipei.breed('A2', 'agA')\n",
    "pc_taipei.breed('B1', 'agB')\n",
    "pc_taipei.breed('B2', 'agB')\n",
    "\n",
    "pc.deep_print()"
   ]
  },
  {
   "cell_type": "code",
   "execution_count": 23,
   "metadata": {},
   "outputs": [
    {
     "name": "stdout",
     "output_type": "stream",
     "text": [
      "Get node from it parent\n",
      "A1 (sexA: f, ageA: 17.5429, muA: 20.7132)\n",
      "\n",
      "Get a node from root: use '@' to link names of ParameterCores\n",
      "A1 (sexA: f, ageA: 17.5429, muA: 20.7132)\n"
     ]
    }
   ],
   "source": [
    "print('Get node from it parent')\n",
    "a1 = pc_taipei.get_child('A1')\n",
    "a1.print()\n",
    "\n",
    "print('\\nGet a node from root: use \\'@\\' to link names of ParameterCores')\n",
    "a1 = pc.find_descendant('Taiwan@Taipei@A1')\n",
    "a1.print()"
   ]
  },
  {
   "cell_type": "markdown",
   "metadata": {},
   "source": [
    "When putting intervention in a node, the impulse will be passed to its children node automatically."
   ]
  },
  {
   "cell_type": "code",
   "execution_count": 24,
   "metadata": {},
   "outputs": [
    {
     "name": "stdout",
     "output_type": "stream",
     "text": [
      "Taiwan (sd: 1, sdB: 0.5, b1: 0.5, b0: 11.9375)\n",
      "-- Taipei (ps: 0.473978, b0r: 10, pf: 0.2168)\n",
      "---- A1 (sexA: f, ageA: 17.5429, muA: 30.7089)\n",
      "---- A2 (sexA: f, ageA: 23.0762, muA: 33.4756)\n",
      "---- B1 (ageB: 29.6702, muB: 36.7726)\n",
      "---- B2 (ageB: 33.0408, muB: 38.4578)\n"
     ]
    }
   ],
   "source": [
    "# see the change of muB\n",
    "pc.impulse({'b0r': 10})\n",
    "pc.deep_print()"
   ]
  },
  {
   "cell_type": "code",
   "execution_count": 25,
   "metadata": {},
   "outputs": [
    {
     "name": "stdout",
     "output_type": "stream",
     "text": [
      "Taiwan (sd: 1, sdB: 0.5, b1: 0.5, b0: 11.9375)\n",
      "-- Taipei (ps: 0.473978, b0r: 0.00854688, pf: 0.2168)\n",
      "---- A1 (sexA: f, ageA: 17.5429, muA: 20.7175)\n",
      "---- A2 (sexA: f, ageA: 23.0762, muA: 23.4841)\n",
      "---- B1 (ageB: 29.6702, muB: 26.7811)\n",
      "---- B2 (ageB: 33.0408, muB: 28.4664)\n"
     ]
    }
   ],
   "source": [
    "pc.impulse(['b0r'])\n",
    "pc.deep_print()"
   ]
  },
  {
   "cell_type": "markdown",
   "metadata": {},
   "source": [
    "### Example 5. A simple agent-based model "
   ]
  },
  {
   "cell_type": "code",
   "execution_count": 26,
   "metadata": {},
   "outputs": [
    {
     "name": "stdout",
     "output_type": "stream",
     "text": [
      "NodeSet root\n",
      "|-Fixed ['be', 'al', 'p']\n",
      "|-Floating set()\n",
      "|-Exo set()\n",
      "|-Listening set()\n",
      "|-NodeSet ag\n",
      "  |-Fixed []\n",
      "  |-Floating {'x'}\n",
      "  |-Exo set()\n",
      "  |-Listening {'p', 'be', 'al'}\n"
     ]
    }
   ],
   "source": [
    "script = '''\n",
    "PCore BetaBin {\n",
    "    al = 1\n",
    "    be = 1\n",
    "    p ~ beta(al, be)\n",
    "    x ~ binom(5, p)\n",
    "}\n",
    "'''\n",
    "\n",
    "\n",
    "bn = dag.bayes_net_from_script(script)\n",
    "\n",
    "ns = dag.NodeSet('root', as_fixed=['p'])\n",
    "ns.new_child('ag', as_floating=['x'])\n",
    "\n",
    "sm = dag.as_simulation_core(bn, ns)\n",
    "sm.deep_print()"
   ]
  },
  {
   "cell_type": "code",
   "execution_count": 27,
   "metadata": {},
   "outputs": [],
   "source": [
    "class Agent:\n",
    "    def __init__(self, name, p):\n",
    "        self.Name = name\n",
    "        self.Parameters = p\n",
    "        self.X = p.get_sampler('x')\n",
    "        \n",
    "    def produce(self, k):\n",
    "        return self.X.sample(k)\n",
    "\n",
    "class AgentBasedModel:\n",
    "    def __init__(self, pars, n_agents):\n",
    "        self.Parameters = pars\n",
    "        self.Agents = list()\n",
    "        for i in range(n_agents):\n",
    "            name = 'Ag{}'.format(i)\n",
    "            p = pars.breed(name, 'ag')\n",
    "            self.Agents.append(Agent(name, p))\n",
    "        \n",
    "    def product(self, k):\n",
    "        return np.array([ag.produce(k) for ag in self.Agents]).sum()\n",
    "        \n",
    "        \n",
    "        \n",
    "def fn_sim(pars, data):\n",
    "    abm = AgentBasedModel(pars, data['N'])\n",
    "    return abm.product(data['K'])\n",
    "\n",
    "def fn_mean(sim, data):\n",
    "    return -abs(sim - data['X'])"
   ]
  },
  {
   "cell_type": "code",
   "execution_count": 28,
   "metadata": {},
   "outputs": [],
   "source": [
    "pars = sm.generate('Simu A')\n",
    "\n",
    "abm = AgentBasedModel(pars, 5)"
   ]
  },
  {
   "cell_type": "code",
   "execution_count": 29,
   "metadata": {},
   "outputs": [
    {
     "data": {
      "text/plain": [
       "(456, -256)"
      ]
     },
     "execution_count": 29,
     "metadata": {},
     "output_type": "execute_result"
    }
   ],
   "source": [
    "d = {\n",
    "    'N': 10,\n",
    "    'K': 10,\n",
    "    'X': 200\n",
    "}\n",
    "pars = sm.generate('Simu A')\n",
    "sim = fn_sim(pars, d)\n",
    "mea = fn_mean(sim, d)\n",
    "sim, mea"
   ]
  },
  {
   "cell_type": "code",
   "execution_count": 30,
   "metadata": {},
   "outputs": [],
   "source": [
    "sdm = dag.as_simulation_data_model(sm, d, fn_sim, fn_mean)"
   ]
  },
  {
   "cell_type": "code",
   "execution_count": 34,
   "metadata": {},
   "outputs": [
    {
     "name": "stdout",
     "output_type": "stream",
     "text": [
      "          al     be           p\n",
      "count  100.0  100.0  100.000000\n",
      "mean     1.0    1.0    0.396845\n",
      "std      0.0    0.0    0.001975\n",
      "min      1.0    1.0    0.393465\n",
      "25%      1.0    1.0    0.395289\n",
      "50%      1.0    1.0    0.397152\n",
      "75%      1.0    1.0    0.398340\n",
      "max      1.0    1.0    0.401076\n",
      "\n",
      "N       100.000000\n",
      "ESS      67.627363\n",
      "Dbar      2.160000\n",
      "pD        1.193600\n",
      "DIC       3.353600\n",
      "dtype: float64\n"
     ]
    }
   ],
   "source": [
    "fit = dag.fitting.MCMC(sdm)\n",
    "fit.fit(100)\n",
    "fit.summarise_posterior()"
   ]
  },
  {
   "cell_type": "code",
   "execution_count": 32,
   "metadata": {},
   "outputs": [
    {
     "data": {
      "text/plain": [
       "be: 1, al: 1, p: 0.397024"
      ]
     },
     "execution_count": 32,
     "metadata": {},
     "output_type": "execute_result"
    }
   ],
   "source": [
    "fit.BestFit"
   ]
  }
 ],
 "metadata": {
  "kernelspec": {
   "display_name": "Python 3",
   "language": "python",
   "name": "python3"
  },
  "language_info": {
   "codemirror_mode": {
    "name": "ipython",
    "version": 3
   },
   "file_extension": ".py",
   "mimetype": "text/x-python",
   "name": "python",
   "nbconvert_exporter": "python",
   "pygments_lexer": "ipython3",
   "version": "3.7.3"
  }
 },
 "nbformat": 4,
 "nbformat_minor": 2
}
