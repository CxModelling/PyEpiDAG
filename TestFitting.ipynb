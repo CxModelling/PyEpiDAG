{
 "cells": [
  {
   "cell_type": "code",
   "execution_count": 1,
   "metadata": {},
   "outputs": [],
   "source": [
    "import epidag as dag\n",
    "import logging\n",
    "import sys\n",
    "\n",
    "logging.basicConfig(level=logging.INFO, stream=sys.stdout)"
   ]
  },
  {
   "cell_type": "code",
   "execution_count": 2,
   "metadata": {},
   "outputs": [],
   "source": [
    "scr = '''\n",
    "PCore test {\n",
    "    prob ~ beta(1, 1)\n",
    "    x ~ binom(n, prob)    \n",
    "}\n",
    "'''\n",
    "\n",
    "bn = dag.bayes_net_from_script(scr)"
   ]
  },
  {
   "cell_type": "code",
   "execution_count": 3,
   "metadata": {},
   "outputs": [],
   "source": [
    "from epidag.fitting import Fitter, BayesianModel\n"
   ]
  },
  {
   "cell_type": "code",
   "execution_count": 4,
   "metadata": {},
   "outputs": [],
   "source": [
    "class BinBeta(BayesianModel):\n",
    "    def __init__(self, bn, data):\n",
    "        BayesianModel.__init__(self, bn, pars=['prob'])\n",
    "        self.Data = data\n",
    "        \n",
    "    @property\n",
    "    def has_exact_likelihood(self):\n",
    "        return True\n",
    "\n",
    "    def evaluate_distance(self, pars):\n",
    "        return - self.evaluate_likelihood(pars)\n",
    "\n",
    "    def evaluate_likelihood(self, pars):\n",
    "        li = 0\n",
    "        pars = dict(pars)\n",
    "        for d in self.Data:\n",
    "            pars.update(d)\n",
    "            li += self.BN['x'].evaluate(pars)\n",
    "        return li\n",
    "\n"
   ]
  },
  {
   "cell_type": "code",
   "execution_count": 5,
   "metadata": {},
   "outputs": [],
   "source": [
    "data = [\n",
    "    {'id': 1, 'n': 10, 'x': 4},\n",
    "    {'id': 2, 'n': 20, 'x': 7}\n",
    "]\n",
    "\n",
    "model = BinBeta(bn, data)\n"
   ]
  },
  {
   "cell_type": "code",
   "execution_count": 99,
   "metadata": {},
   "outputs": [],
   "source": [
    "d = bn['prob'].get_distribution()"
   ]
  },
  {
   "cell_type": "code",
   "execution_count": 103,
   "metadata": {},
   "outputs": [
    {
     "ename": "KeyError",
     "evalue": "'n'",
     "output_type": "error",
     "traceback": [
      "\u001b[1;31m---------------------------------------------------------------------------\u001b[0m",
      "\u001b[1;31mKeyError\u001b[0m                                  Traceback (most recent call last)",
      "\u001b[1;32m<ipython-input-103-25aa49731862>\u001b[0m in \u001b[0;36m<module>\u001b[1;34m\u001b[0m\n\u001b[1;32m----> 1\u001b[1;33m \u001b[0mbn\u001b[0m\u001b[1;33m[\u001b[0m\u001b[1;34m'x'\u001b[0m\u001b[1;33m]\u001b[0m\u001b[1;33m.\u001b[0m\u001b[0mget_distribution\u001b[0m\u001b[1;33m(\u001b[0m\u001b[0mdict\u001b[0m\u001b[1;33m(\u001b[0m\u001b[1;33m)\u001b[0m\u001b[1;33m)\u001b[0m\u001b[1;33m\u001b[0m\u001b[1;33m\u001b[0m\u001b[0m\n\u001b[0m",
      "\u001b[1;32mE:\\Source\\PyDAG\\epidag\\bayesnet\\loci.py\u001b[0m in \u001b[0;36mget_distribution\u001b[1;34m(self, pas)\u001b[0m\n\u001b[0;32m    119\u001b[0m \u001b[1;33m\u001b[0m\u001b[0m\n\u001b[0;32m    120\u001b[0m     \u001b[1;32mdef\u001b[0m \u001b[0mget_distribution\u001b[0m\u001b[1;33m(\u001b[0m\u001b[0mself\u001b[0m\u001b[1;33m,\u001b[0m \u001b[0mpas\u001b[0m\u001b[1;33m=\u001b[0m\u001b[1;32mNone\u001b[0m\u001b[1;33m)\u001b[0m\u001b[1;33m:\u001b[0m\u001b[1;33m\u001b[0m\u001b[1;33m\u001b[0m\u001b[0m\n\u001b[1;32m--> 121\u001b[1;33m         \u001b[0mloc\u001b[0m \u001b[1;33m=\u001b[0m \u001b[1;33m{\u001b[0m\u001b[0mpa\u001b[0m\u001b[1;33m:\u001b[0m \u001b[0mpas\u001b[0m\u001b[1;33m[\u001b[0m\u001b[0mpa\u001b[0m\u001b[1;33m]\u001b[0m \u001b[1;32mfor\u001b[0m \u001b[0mpa\u001b[0m \u001b[1;32min\u001b[0m \u001b[0mself\u001b[0m\u001b[1;33m.\u001b[0m\u001b[0mParents\u001b[0m\u001b[1;33m}\u001b[0m\u001b[1;33m\u001b[0m\u001b[1;33m\u001b[0m\u001b[0m\n\u001b[0m\u001b[0;32m    122\u001b[0m         \u001b[1;32mtry\u001b[0m\u001b[1;33m:\u001b[0m\u001b[1;33m\u001b[0m\u001b[1;33m\u001b[0m\u001b[0m\n\u001b[0;32m    123\u001b[0m             \u001b[1;32mreturn\u001b[0m \u001b[0mparse_distribution\u001b[0m\u001b[1;33m(\u001b[0m\u001b[0mself\u001b[0m\u001b[1;33m.\u001b[0m\u001b[0mFunc\u001b[0m\u001b[1;33m,\u001b[0m \u001b[0mloc\u001b[0m\u001b[1;33m=\u001b[0m\u001b[0mloc\u001b[0m\u001b[1;33m)\u001b[0m\u001b[1;33m\u001b[0m\u001b[1;33m\u001b[0m\u001b[0m\n",
      "\u001b[1;32mE:\\Source\\PyDAG\\epidag\\bayesnet\\loci.py\u001b[0m in \u001b[0;36m<dictcomp>\u001b[1;34m(.0)\u001b[0m\n\u001b[0;32m    119\u001b[0m \u001b[1;33m\u001b[0m\u001b[0m\n\u001b[0;32m    120\u001b[0m     \u001b[1;32mdef\u001b[0m \u001b[0mget_distribution\u001b[0m\u001b[1;33m(\u001b[0m\u001b[0mself\u001b[0m\u001b[1;33m,\u001b[0m \u001b[0mpas\u001b[0m\u001b[1;33m=\u001b[0m\u001b[1;32mNone\u001b[0m\u001b[1;33m)\u001b[0m\u001b[1;33m:\u001b[0m\u001b[1;33m\u001b[0m\u001b[1;33m\u001b[0m\u001b[0m\n\u001b[1;32m--> 121\u001b[1;33m         \u001b[0mloc\u001b[0m \u001b[1;33m=\u001b[0m \u001b[1;33m{\u001b[0m\u001b[0mpa\u001b[0m\u001b[1;33m:\u001b[0m \u001b[0mpas\u001b[0m\u001b[1;33m[\u001b[0m\u001b[0mpa\u001b[0m\u001b[1;33m]\u001b[0m \u001b[1;32mfor\u001b[0m \u001b[0mpa\u001b[0m \u001b[1;32min\u001b[0m \u001b[0mself\u001b[0m\u001b[1;33m.\u001b[0m\u001b[0mParents\u001b[0m\u001b[1;33m}\u001b[0m\u001b[1;33m\u001b[0m\u001b[1;33m\u001b[0m\u001b[0m\n\u001b[0m\u001b[0;32m    122\u001b[0m         \u001b[1;32mtry\u001b[0m\u001b[1;33m:\u001b[0m\u001b[1;33m\u001b[0m\u001b[1;33m\u001b[0m\u001b[0m\n\u001b[0;32m    123\u001b[0m             \u001b[1;32mreturn\u001b[0m \u001b[0mparse_distribution\u001b[0m\u001b[1;33m(\u001b[0m\u001b[0mself\u001b[0m\u001b[1;33m.\u001b[0m\u001b[0mFunc\u001b[0m\u001b[1;33m,\u001b[0m \u001b[0mloc\u001b[0m\u001b[1;33m=\u001b[0m\u001b[0mloc\u001b[0m\u001b[1;33m)\u001b[0m\u001b[1;33m\u001b[0m\u001b[1;33m\u001b[0m\u001b[0m\n",
      "\u001b[1;31mKeyError\u001b[0m: 'n'"
     ]
    }
   ],
   "source": [
    "p = sample(bn)\n",
    "bn['x'].get_distribution()"
   ]
  },
  {
   "cell_type": "code",
   "execution_count": 6,
   "metadata": {},
   "outputs": [
    {
     "data": {
      "text/plain": [
       "(4.864246461955711, -4.864246461955711)"
      ]
     },
     "execution_count": 6,
     "metadata": {},
     "output_type": "execute_result"
    }
   ],
   "source": [
    "p = model.sample_prior()\n",
    "model.evaluate_distance(p), model.evaluate_likelihood(p)"
   ]
  },
  {
   "cell_type": "code",
   "execution_count": 7,
   "metadata": {},
   "outputs": [
    {
     "data": {
      "text/plain": [
       "(3.1093340676380965, -3.1093340676380965)"
      ]
     },
     "execution_count": 7,
     "metadata": {},
     "output_type": "execute_result"
    }
   ],
   "source": [
    "p = {'prob': 11/30}\n",
    "model.evaluate_distance(p), model.evaluate_likelihood(p)"
   ]
  },
  {
   "cell_type": "code",
   "execution_count": 37,
   "metadata": {},
   "outputs": [
    {
     "name": "stdout",
     "output_type": "stream",
     "text": [
      "INFO:ABC:Testing threshold\n",
      "INFO:ABC:Detected epsilon = -3.144\n",
      "INFO:ABC:Collecting posterior parameters\n",
      "INFO:ABC:Completed\n"
     ]
    }
   ],
   "source": [
    "alg = dag.fitting.ABC(p_test = 0.05)\n",
    "\n",
    "res = alg.fit(model, n_post = 200)"
   ]
  },
  {
   "cell_type": "code",
   "execution_count": 14,
   "metadata": {},
   "outputs": [],
   "source": [
    "import numpy as np"
   ]
  },
  {
   "cell_type": "code",
   "execution_count": 46,
   "metadata": {},
   "outputs": [],
   "source": [
    "def find_eps(ds, eps):\n",
    "    e0 = (ds < eps0).mean()\n",
    "    et = 0.9 * e0\n",
    "    ds = list(ds)\n",
    "    ds.sort(key = lambda x : -x)\n",
    "    ds = np.array(ds)\n",
    "    for eps1 in ds:\n",
    "        e1 = (ds < eps1).mean()\n",
    "        if e1 <= et:\n",
    "            return eps1\n",
    "    else:\n",
    "        return eps"
   ]
  },
  {
   "cell_type": "code",
   "execution_count": 84,
   "metadata": {},
   "outputs": [],
   "source": [
    "n_post = 100\n",
    "p_thres = 0.8\n",
    "ess_thres = n_post * p_thres\n",
    "post = list()\n",
    "while len(post) < n_post:\n",
    "    p = model.sample_prior()\n",
    "    di = model.evaluate_likelihood(p)\n",
    "    if np.isfinite(di):\n",
    "        p.LogLikelihood = - di\n",
    "        post.append(p)\n",
    "\n",
    "d0 = np.array([-p.LogLikelihood for p in post])\n",
    "\n",
    "wts = np.ones(n_post) / n_post\n",
    "\n",
    "eps0 = float('inf')\n",
    "n_round = n_stay = 0\n",
    "n_eval = n_post\n",
    "\n",
    "n_round += 1\n",
    "eps1 = find_eps(d0, eps0)\n",
    "\n",
    "\n",
    "if eps1 > eps0:\n",
    "    n_stay += 1\n",
    "    eps1 = eps0\n",
    "else:\n",
    "    n_stay = 0\n",
    "\n",
    "act_np0 = d0 < eps0\n",
    "act_np1 = d0 < eps1\n",
    "a = act_np0 > 0\n",
    "\n",
    "wts[a] *= act_np1[a] / act_np0[a]\n",
    "wts[1- act_np0] = 0\n",
    "wts /= wts.sum()\n",
    "\n",
    "if ess_thres * sum(wts * wts) > 1:\n",
    "    assert sum(wts > 0) > 2\n",
    "    alive = wts > 0\n",
    "    ind = [k for k, v in enumerate(alive) if v]\n",
    "    re_ind = rd.choice(ind, size=n_post, replace=T, p=wts[wts > 0])\n",
    "    \n",
    "    post = [post[i].clone() for i in re_ind]\n",
    "    d1 = d0[re_ind]\n",
    "    wts = np.ones(n_post) / n_post\n",
    "else:\n",
    "    d1 = d0"
   ]
  },
  {
   "cell_type": "code",
   "execution_count": 87,
   "metadata": {},
   "outputs": [],
   "source": [
    "def wt_sd(vs, wts):\n",
    "    vs = np.array(vs)\n",
    "    wts = wts / wts.sum()\n",
    "    mu = (wts * vs) / len(wts)\n",
    "    \n",
    "    return np.sqrt(np.sum(wts * (vs - mu) * (vs - mu)))\n",
    "\n"
   ]
  },
  {
   "cell_type": "code",
   "execution_count": 93,
   "metadata": {},
   "outputs": [
    {
     "data": {
      "text/plain": [
       "{'prob': 0.6307853783349535}"
      ]
     },
     "execution_count": 93,
     "metadata": {},
     "output_type": "execute_result"
    }
   ],
   "source": [
    "act_np0 = d0 < eps1\n",
    "alive = act_np0 > 0\n",
    "\n",
    "## MH step\n",
    "\n",
    "tau = {p: wt_sd([d[p] for d in post], wts) for p in model.ParameterNodes}\n",
    "\n",
    "tau"
   ]
  },
  {
   "cell_type": "code",
   "execution_count": 134,
   "metadata": {},
   "outputs": [
    {
     "data": {
      "text/plain": [
       "True"
      ]
     },
     "execution_count": 134,
     "metadata": {},
     "output_type": "execute_result"
    }
   ],
   "source": [
    "np.isinf(float('-inf'))"
   ]
  },
  {
   "cell_type": "code",
   "execution_count": 130,
   "metadata": {},
   "outputs": [],
   "source": [
    "ss = Steppers(model)"
   ]
  },
  {
   "cell_type": "code",
   "execution_count": 131,
   "metadata": {},
   "outputs": [
    {
     "name": "stdout",
     "output_type": "stream",
     "text": [
      "prob: 0.58265 None\n",
      "prob: 0.636021 0.0\n"
     ]
    }
   ],
   "source": [
    "p = model.sample_prior()\n",
    "print(p, p.LogPrior)\n",
    "p = ss.mutate(model, p, {'prob': 0.2})\n",
    "print(p, p.LogPrior)\n"
   ]
  },
  {
   "cell_type": "code",
   "execution_count": 79,
   "metadata": {},
   "outputs": [],
   "source": [
    "alive = wts > 0\n",
    "ind = [k for k, v in enumerate(alive) if v]\n",
    "re_ind = rd.choice(ind, 10, p=wts[wts > 0])\n",
    "post = [post[i].clone() for i in re_ind]"
   ]
  },
  {
   "cell_type": "code",
   "execution_count": 34,
   "metadata": {},
   "outputs": [],
   "source": [
    "if ess_tres * np.sum(wts * wts):\n",
    "    if sum(wts > 0) < 2:\n",
    "        # error\n",
    "        return \n",
    "    alive = wts > 0\n",
    "    ind = [i for i, al in enumerate(alive) if al]\n",
    "    re_index = \n",
    "    \n",
    "if (ess_thres * sum(wts ^2) > 1) {\n",
    "  stopifnot(sum(wts > 0) > 2)\n",
    "  alive <- wts > 0\n",
    "  ind <- (1:n_posterior)[alive]\n",
    "  re_index <- sample(ind, n_posterior, prob = wts[alive], replace = T)\n",
    "  theta_1 <- theta_0[re_index]\n",
    "\n",
    "  posteriors <- posteriors[re_index]\n",
    "\n",
    "  d_1 <- d_0[re_index]\n",
    "  wts <- rep(1, n_posterior) / n_posterior\n",
    "} else {\n",
    "  theta_1 <- theta_0\n",
    "  d_1 <- d_0\n",
    "}"
   ]
  },
  {
   "cell_type": "code",
   "execution_count": 38,
   "metadata": {},
   "outputs": [
    {
     "ename": "AttributeError",
     "evalue": "module 'epidag.fitting' has no attribute 'MCMC'",
     "output_type": "error",
     "traceback": [
      "\u001b[1;31m---------------------------------------------------------------------------\u001b[0m",
      "\u001b[1;31mAttributeError\u001b[0m                            Traceback (most recent call last)",
      "\u001b[1;32m<ipython-input-38-6dd48e2def7d>\u001b[0m in \u001b[0;36m<module>\u001b[1;34m\u001b[0m\n\u001b[1;32m----> 1\u001b[1;33m \u001b[0mfit\u001b[0m \u001b[1;33m=\u001b[0m \u001b[0mdag\u001b[0m\u001b[1;33m.\u001b[0m\u001b[0mfitting\u001b[0m\u001b[1;33m.\u001b[0m\u001b[0mMCMC\u001b[0m\u001b[1;33m(\u001b[0m\u001b[0mdm\u001b[0m\u001b[1;33m)\u001b[0m\u001b[1;33m\u001b[0m\u001b[1;33m\u001b[0m\u001b[0m\n\u001b[0m\u001b[0;32m      2\u001b[0m \u001b[0mfit\u001b[0m\u001b[1;33m.\u001b[0m\u001b[0mfit\u001b[0m\u001b[1;33m(\u001b[0m\u001b[1;36m1000\u001b[0m\u001b[1;33m)\u001b[0m\u001b[1;33m\u001b[0m\u001b[1;33m\u001b[0m\u001b[0m\n\u001b[0;32m      3\u001b[0m \u001b[0mfit\u001b[0m\u001b[1;33m.\u001b[0m\u001b[0msummarise_posterior\u001b[0m\u001b[1;33m(\u001b[0m\u001b[1;33m)\u001b[0m\u001b[1;33m\u001b[0m\u001b[1;33m\u001b[0m\u001b[0m\n",
      "\u001b[1;31mAttributeError\u001b[0m: module 'epidag.fitting' has no attribute 'MCMC'"
     ]
    }
   ],
   "source": [
    "fit = dag.fitting.MCMC(dm)\n",
    "fit.fit(1000)\n",
    "fit.summarise_posterior()"
   ]
  },
  {
   "cell_type": "code",
   "execution_count": 15,
   "metadata": {},
   "outputs": [
    {
     "name": "stdout",
     "output_type": "stream",
     "text": [
      "INFO:root:Initialising\n",
      "INFO:root:Testing threshold\n",
      "INFO:root:Fitting\n",
      "INFO:root:Gathering posteriori\n",
      "INFO:root:Finished\n",
      "          al     be        prob\n",
      "count  100.0  100.0  100.000000\n",
      "mean     1.0    1.0    0.366832\n",
      "std      0.0    0.0    0.034689\n",
      "min      1.0    1.0    0.311369\n",
      "25%      1.0    1.0    0.334778\n",
      "50%      1.0    1.0    0.367846\n",
      "75%      1.0    1.0    0.397980\n",
      "max      1.0    1.0    0.424331\n",
      "N       100.000000\n",
      "ESS      99.575397\n",
      "Dbar      6.373474\n",
      "pD        0.004413\n",
      "DIC       6.377887\n",
      "dtype: float64\n"
     ]
    }
   ],
   "source": [
    "fit = dag.fitting.ABC(dm)\n",
    "fit.fit(100, test_p=0.1)\n",
    "fit.summarise_posterior()"
   ]
  },
  {
   "cell_type": "code",
   "execution_count": 9,
   "metadata": {},
   "outputs": [
    {
     "name": "stdout",
     "output_type": "stream",
     "text": [
      "g(heat, b2, sd, b1, b0, sun)\n",
      "-- agent(mu1, y2, x1, mu2, y1, x2)\n"
     ]
    }
   ],
   "source": [
    "scr = '''\n",
    "PCore ex {\n",
    "    sun ~ unif(0, 1)\n",
    "    b0 = 1\n",
    "    heat ~ exp(sun)\n",
    "    x1 ~ norm(0, 1)\n",
    "    x2 ~ norm(0, 1)\n",
    "    b1 ~ unif(10, 20)\n",
    "    mu1 = b0 + b1*x1 + b2*x2\n",
    "    mu2 = b0 + b1*x1\n",
    "    y1 ~ norm(mu1, sd)\n",
    "    y2 ~ norm(mu2, 1)\n",
    "}\n",
    "\n",
    "'''\n",
    "\n",
    "bn = dag.bayes_net_from_script(scr)\n",
    "hie = {\n",
    "    'g': ['sun', 'agent'],\n",
    "    'agent': ['x1', 'x2','mu1', 'mu2']\n",
    "}\n",
    "sm = dag.as_simulation_core(bn, hie=hie, random=['x2'])\n",
    "\n",
    "\n",
    "h = dag.form_hierarchy(bn, hie)\n",
    "\n",
    "h.print()"
   ]
  },
  {
   "cell_type": "code",
   "execution_count": 10,
   "metadata": {},
   "outputs": [],
   "source": [
    "pc = sm.generate(exo={'sd'})\n",
    "ag1 = pc.breed('a1', 'agent')"
   ]
  },
  {
   "cell_type": "code",
   "execution_count": 19,
   "metadata": {},
   "outputs": [
    {
     "data": {
      "text/plain": [
       "-1.5826879957652007"
      ]
     },
     "execution_count": 19,
     "metadata": {},
     "output_type": "execute_result"
    }
   ],
   "source": [
    "ag1.get_sampler('y1')(b2= 4, sd =3)"
   ]
  },
  {
   "cell_type": "code",
   "execution_count": 13,
   "metadata": {},
   "outputs": [
    {
     "data": {
      "text/plain": [
       "0.7308904995335411"
      ]
     },
     "execution_count": 13,
     "metadata": {},
     "output_type": "execute_result"
    }
   ],
   "source": [
    "pc.get_sampler('heat')()"
   ]
  },
  {
   "cell_type": "code",
   "execution_count": 12,
   "metadata": {},
   "outputs": [
    {
     "name": "stdout",
     "output_type": "stream",
     "text": [
      "Group g\n",
      "Exogenous    : ['b2', 'sd']\n",
      "Can be fixed: ['b1', 'b0', 'sun', 'heat']\n",
      "Can be random: ['sun', 'heat']\n",
      "Can be actors: ['heat']\n",
      "--Group agent\n",
      "  Exogenous    : []\n",
      "  Can be fixed: ['x1', 'mu2', 'x2', 'y2']\n",
      "  Can be random: ['x1', 'mu2', 'x2', 'y2', 'y1', 'mu1']\n",
      "  Can be actors: ['y2', 'y1']\n"
     ]
    },
    {
     "data": {
      "text/plain": [
       "{'g': (['b2', 'sd'], ['b1', 'b0'], ['sun'], ['heat'], [], []),\n",
       " 'agent': ([], [], ['x1', 'mu2', 'x2'], ['y2'], ['y1'], ['mu1'])}"
      ]
     },
     "execution_count": 12,
     "metadata": {},
     "output_type": "execute_result"
    }
   ],
   "source": [
    "ng = dag.form_hierarchy(bn, hie)\n",
    "dag.analyse_node_type(bn, ng, True)\n"
   ]
  }
 ],
 "metadata": {
  "kernelspec": {
   "display_name": "Python 3",
   "language": "python",
   "name": "python3"
  },
  "language_info": {
   "codemirror_mode": {
    "name": "ipython",
    "version": 3
   },
   "file_extension": ".py",
   "mimetype": "text/x-python",
   "name": "python",
   "nbconvert_exporter": "python",
   "pygments_lexer": "ipython3",
   "version": "3.7.3"
  }
 },
 "nbformat": 4,
 "nbformat_minor": 2
}
