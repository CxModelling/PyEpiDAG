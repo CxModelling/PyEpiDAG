{
 "cells": [
  {
   "cell_type": "code",
   "execution_count": 1,
   "metadata": {},
   "outputs": [],
   "source": [
    "import epidag as dag\n",
    "import logging\n",
    "import sys\n",
    "\n",
    "logging.basicConfig(level=logging.INFO, stream=sys.stdout)"
   ]
  },
  {
   "cell_type": "code",
   "execution_count": 2,
   "metadata": {},
   "outputs": [],
   "source": [
    "scr = '''\n",
    "PCore test {\n",
    "    al = 1\n",
    "    be = 1\n",
    "    prob ~ beta(al, be)\n",
    "    x ~ binom(n, prob)    \n",
    "}\n",
    "'''\n",
    "\n",
    "bn = dag.bayes_net_from_script(scr)"
   ]
  },
  {
   "cell_type": "code",
   "execution_count": 3,
   "metadata": {},
   "outputs": [
    {
     "ename": "AttributeError",
     "evalue": "module 'epidag' has no attribute 'form_hierarchy'",
     "output_type": "error",
     "traceback": [
      "\u001b[1;31m---------------------------------------------------------------------------\u001b[0m",
      "\u001b[1;31mAttributeError\u001b[0m                            Traceback (most recent call last)",
      "\u001b[1;32m<ipython-input-3-a98d20e78634>\u001b[0m in \u001b[0;36m<module>\u001b[1;34m\u001b[0m\n\u001b[0;32m      4\u001b[0m ]\n\u001b[0;32m      5\u001b[0m \u001b[1;33m\u001b[0m\u001b[0m\n\u001b[1;32m----> 6\u001b[1;33m \u001b[0mdm\u001b[0m \u001b[1;33m=\u001b[0m \u001b[0mdag\u001b[0m\u001b[1;33m.\u001b[0m\u001b[0mas_data_model\u001b[0m\u001b[1;33m(\u001b[0m\u001b[0mbn\u001b[0m\u001b[1;33m,\u001b[0m \u001b[0mdata\u001b[0m\u001b[1;33m)\u001b[0m\u001b[1;33m\u001b[0m\u001b[1;33m\u001b[0m\u001b[0m\n\u001b[0m",
      "\u001b[1;32mE:\\Source\\PyDAG\\epidag\\fitting\\fn.py\u001b[0m in \u001b[0;36mas_data_model\u001b[1;34m(bn, data, exo, latent, datum_name)\u001b[0m\n\u001b[0;32m     13\u001b[0m     \u001b[0mdata_hie\u001b[0m \u001b[1;33m=\u001b[0m \u001b[0mget_data_hierarchy\u001b[0m\u001b[1;33m(\u001b[0m\u001b[0mdata_shadow\u001b[0m\u001b[1;33m,\u001b[0m \u001b[0mbn\u001b[0m\u001b[1;33m,\u001b[0m \u001b[0mlatent\u001b[0m\u001b[1;33m=\u001b[0m\u001b[0mlatent\u001b[0m\u001b[1;33m)\u001b[0m\u001b[1;33m\u001b[0m\u001b[1;33m\u001b[0m\u001b[0m\n\u001b[0;32m     14\u001b[0m \u001b[1;33m\u001b[0m\u001b[0m\n\u001b[1;32m---> 15\u001b[1;33m     \u001b[0mng\u001b[0m \u001b[1;33m=\u001b[0m \u001b[0mdag\u001b[0m\u001b[1;33m.\u001b[0m\u001b[0mform_hierarchy\u001b[0m\u001b[1;33m(\u001b[0m\u001b[0mbn\u001b[0m\u001b[1;33m,\u001b[0m \u001b[0mdata_hie\u001b[0m\u001b[1;33m)\u001b[0m\u001b[1;33m\u001b[0m\u001b[1;33m\u001b[0m\u001b[0m\n\u001b[0m\u001b[0;32m     16\u001b[0m \u001b[1;33m\u001b[0m\u001b[0m\n\u001b[0;32m     17\u001b[0m     \u001b[0mroot_nodes\u001b[0m \u001b[1;33m=\u001b[0m \u001b[0mbn\u001b[0m\u001b[1;33m.\u001b[0m\u001b[0msort\u001b[0m\u001b[1;33m(\u001b[0m\u001b[0mng\u001b[0m\u001b[1;33m.\u001b[0m\u001b[0mNodes\u001b[0m\u001b[1;33m)\u001b[0m\u001b[1;33m\u001b[0m\u001b[1;33m\u001b[0m\u001b[0m\n",
      "\u001b[1;31mAttributeError\u001b[0m: module 'epidag' has no attribute 'form_hierarchy'"
     ]
    }
   ],
   "source": [
    "data = [\n",
    "    {'id': 1, 'n': 10, 'x': 4},\n",
    "    {'id': 2, 'n': 20, 'x': 7}\n",
    "]\n",
    "\n",
    "dm = dag.as_data_model(bn, data)"
   ]
  },
  {
   "cell_type": "code",
   "execution_count": 4,
   "metadata": {},
   "outputs": [
    {
     "data": {
      "text/plain": [
       "-11.495266343193055"
      ]
     },
     "execution_count": 4,
     "metadata": {},
     "output_type": "execute_result"
    }
   ],
   "source": [
    "p = dm.sample_prior()\n",
    "dm.evaluate_likelihood(p)"
   ]
  },
  {
   "cell_type": "code",
   "execution_count": 5,
   "metadata": {},
   "outputs": [
    {
     "name": "stdout",
     "output_type": "stream",
     "text": [
      "INFO:root:Initialising\n",
      "INFO:root:Sampling-Importance\n",
      "INFO:root:Resampling\n",
      "           al      be         prob\n",
      "count  1000.0  1000.0  1000.000000\n",
      "mean      1.0     1.0     0.370308\n",
      "std       0.0     0.0     0.084493\n",
      "min       1.0     1.0     0.121943\n",
      "25%       1.0     1.0     0.306035\n",
      "50%       1.0     1.0     0.378291\n",
      "75%       1.0     1.0     0.423103\n",
      "max       1.0     1.0     0.673788\n",
      "N       1000.000000\n",
      "ESS      870.240011\n",
      "Dbar       7.182361\n",
      "pD         0.448435\n",
      "DIC        7.630796\n",
      "dtype: float64\n"
     ]
    }
   ],
   "source": [
    "fit = dag.fitting.SIR(dm)\n",
    "fit.fit(1000)\n",
    "fit.summarise_posterior()"
   ]
  },
  {
   "cell_type": "code",
   "execution_count": 7,
   "metadata": {},
   "outputs": [
    {
     "name": "stdout",
     "output_type": "stream",
     "text": [
      "INFO:root:Initialising\n",
      "INFO:root:Burning in\n",
      "INFO:root:Gathering posteriori\n",
      "INFO:root:Completed\n",
      "           al      be         prob\n",
      "count  1000.0  1000.0  1000.000000\n",
      "mean      1.0     1.0     0.375369\n",
      "std       0.0     0.0     0.080557\n",
      "min       1.0     1.0     0.137716\n",
      "25%       1.0     1.0     0.319600\n",
      "50%       1.0     1.0     0.377315\n",
      "75%       1.0     1.0     0.432420\n",
      "max       1.0     1.0     0.620260\n",
      "N       1000.000000\n",
      "ESS      887.316120\n",
      "Dbar       7.096182\n",
      "pD         0.392936\n",
      "DIC        7.489118\n",
      "dtype: float64\n"
     ]
    }
   ],
   "source": [
    "fit = dag.fitting.MCMC(dm)\n",
    "fit.fit(1000)\n",
    "fit.summarise_posterior()"
   ]
  },
  {
   "cell_type": "code",
   "execution_count": 15,
   "metadata": {},
   "outputs": [
    {
     "name": "stdout",
     "output_type": "stream",
     "text": [
      "INFO:root:Initialising\n",
      "INFO:root:Testing threshold\n",
      "INFO:root:Fitting\n",
      "INFO:root:Gathering posteriori\n",
      "INFO:root:Finished\n",
      "          al     be        prob\n",
      "count  100.0  100.0  100.000000\n",
      "mean     1.0    1.0    0.366832\n",
      "std      0.0    0.0    0.034689\n",
      "min      1.0    1.0    0.311369\n",
      "25%      1.0    1.0    0.334778\n",
      "50%      1.0    1.0    0.367846\n",
      "75%      1.0    1.0    0.397980\n",
      "max      1.0    1.0    0.424331\n",
      "N       100.000000\n",
      "ESS      99.575397\n",
      "Dbar      6.373474\n",
      "pD        0.004413\n",
      "DIC       6.377887\n",
      "dtype: float64\n"
     ]
    }
   ],
   "source": [
    "fit = dag.fitting.ABC(dm)\n",
    "fit.fit(100, test_p=0.1)\n",
    "fit.summarise_posterior()"
   ]
  },
  {
   "cell_type": "code",
   "execution_count": 9,
   "metadata": {},
   "outputs": [
    {
     "name": "stdout",
     "output_type": "stream",
     "text": [
      "g(heat, b2, sd, b1, b0, sun)\n",
      "-- agent(mu1, y2, x1, mu2, y1, x2)\n"
     ]
    }
   ],
   "source": [
    "scr = '''\n",
    "PCore ex {\n",
    "    sun ~ unif(0, 1)\n",
    "    b0 = 1\n",
    "    heat ~ exp(sun)\n",
    "    x1 ~ norm(0, 1)\n",
    "    x2 ~ norm(0, 1)\n",
    "    b1 ~ unif(10, 20)\n",
    "    mu1 = b0 + b1*x1 + b2*x2\n",
    "    mu2 = b0 + b1*x1\n",
    "    y1 ~ norm(mu1, sd)\n",
    "    y2 ~ norm(mu2, 1)\n",
    "}\n",
    "\n",
    "'''\n",
    "\n",
    "bn = dag.bayes_net_from_script(scr)\n",
    "hie = {\n",
    "    'g': ['sun', 'agent'],\n",
    "    'agent': ['x1', 'x2','mu1', 'mu2']\n",
    "}\n",
    "sm = dag.as_simulation_core(bn, hie=hie, random=['x2'])\n",
    "\n",
    "\n",
    "h = dag.form_hierarchy(bn, hie)\n",
    "\n",
    "h.print()"
   ]
  },
  {
   "cell_type": "code",
   "execution_count": 10,
   "metadata": {},
   "outputs": [],
   "source": [
    "pc = sm.generate(exo={'sd'})\n",
    "ag1 = pc.breed('a1', 'agent')"
   ]
  },
  {
   "cell_type": "code",
   "execution_count": 19,
   "metadata": {},
   "outputs": [
    {
     "data": {
      "text/plain": [
       "-1.5826879957652007"
      ]
     },
     "execution_count": 19,
     "metadata": {},
     "output_type": "execute_result"
    }
   ],
   "source": [
    "ag1.get_sampler('y1')(b2= 4, sd =3)"
   ]
  },
  {
   "cell_type": "code",
   "execution_count": 13,
   "metadata": {},
   "outputs": [
    {
     "data": {
      "text/plain": [
       "0.7308904995335411"
      ]
     },
     "execution_count": 13,
     "metadata": {},
     "output_type": "execute_result"
    }
   ],
   "source": [
    "pc.get_sampler('heat')()"
   ]
  },
  {
   "cell_type": "code",
   "execution_count": 12,
   "metadata": {},
   "outputs": [
    {
     "name": "stdout",
     "output_type": "stream",
     "text": [
      "Group g\n",
      "Exogenous    : ['b2', 'sd']\n",
      "Can be fixed: ['b1', 'b0', 'sun', 'heat']\n",
      "Can be random: ['sun', 'heat']\n",
      "Can be actors: ['heat']\n",
      "--Group agent\n",
      "  Exogenous    : []\n",
      "  Can be fixed: ['x1', 'mu2', 'x2', 'y2']\n",
      "  Can be random: ['x1', 'mu2', 'x2', 'y2', 'y1', 'mu1']\n",
      "  Can be actors: ['y2', 'y1']\n"
     ]
    },
    {
     "data": {
      "text/plain": [
       "{'g': (['b2', 'sd'], ['b1', 'b0'], ['sun'], ['heat'], [], []),\n",
       " 'agent': ([], [], ['x1', 'mu2', 'x2'], ['y2'], ['y1'], ['mu1'])}"
      ]
     },
     "execution_count": 12,
     "metadata": {},
     "output_type": "execute_result"
    }
   ],
   "source": [
    "ng = dag.form_hierarchy(bn, hie)\n",
    "dag.analyse_node_type(bn, ng, True)\n"
   ]
  }
 ],
 "metadata": {
  "kernelspec": {
   "display_name": "Python 3",
   "language": "python",
   "name": "python3"
  },
  "language_info": {
   "codemirror_mode": {
    "name": "ipython",
    "version": 3
   },
   "file_extension": ".py",
   "mimetype": "text/x-python",
   "name": "python",
   "nbconvert_exporter": "python",
   "pygments_lexer": "ipython3",
   "version": "3.7.3"
  }
 },
 "nbformat": 4,
 "nbformat_minor": 2
}
