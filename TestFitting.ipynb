{
 "cells": [
  {
   "cell_type": "code",
   "execution_count": 1,
   "metadata": {},
   "outputs": [],
   "source": [
    "import epidag as dag\n",
    "import logging\n",
    "import sys\n",
    "\n",
    "logging.basicConfig(level=logging.INFO, stream=sys.stdout)"
   ]
  },
  {
   "cell_type": "code",
   "execution_count": 2,
   "metadata": {},
   "outputs": [],
   "source": [
    "scr = '''\n",
    "PCore test {\n",
    "    prob ~ beta(1, 1)\n",
    "    x ~ binom(n, prob)    \n",
    "}\n",
    "'''\n",
    "\n",
    "bn = dag.bayes_net_from_script(scr)"
   ]
  },
  {
   "cell_type": "code",
   "execution_count": 3,
   "metadata": {},
   "outputs": [],
   "source": [
    "from epidag.fitting import Fitter, BayesianModel\n"
   ]
  },
  {
   "cell_type": "code",
   "execution_count": 33,
   "metadata": {},
   "outputs": [],
   "source": [
    "class BinBeta(BayesianModel):\n",
    "    def __init__(self, bn, data):\n",
    "        BayesianModel.__init__(self, bn, pars=['prob'])\n",
    "        self.Data = data\n",
    "        \n",
    "    @property\n",
    "    def has_exact_likelihood(self):\n",
    "        return True\n",
    "\n",
    "    def evaluate_distance(self, pars):\n",
    "        return - self.evaluate_likelihood(pars)\n",
    "\n",
    "    def evaluate_likelihood(self, pars):\n",
    "        li = 0\n",
    "        pars = dict(pars)\n",
    "        for d in self.Data:\n",
    "            pars.update(d)\n",
    "            li += self.BN['x'].evaluate(pars)\n",
    "        return li\n",
    "\n"
   ]
  },
  {
   "cell_type": "code",
   "execution_count": 34,
   "metadata": {},
   "outputs": [],
   "source": [
    "data = [\n",
    "    {'id': 1, 'n': 10, 'x': 4},\n",
    "    {'id': 2, 'n': 20, 'x': 7}\n",
    "]\n",
    "\n",
    "model = BinBeta(bn, data)\n"
   ]
  },
  {
   "cell_type": "code",
   "execution_count": 35,
   "metadata": {},
   "outputs": [
    {
     "data": {
      "text/plain": [
       "(22.433845064673246, -22.433845064673246)"
      ]
     },
     "execution_count": 35,
     "metadata": {},
     "output_type": "execute_result"
    }
   ],
   "source": [
    "p = model.sample_prior()\n",
    "model.evaluate_distance(p), model.evaluate_likelihood(p)"
   ]
  },
  {
   "cell_type": "code",
   "execution_count": 36,
   "metadata": {},
   "outputs": [
    {
     "data": {
      "text/plain": [
       "(3.1093340676380965, -3.1093340676380965)"
      ]
     },
     "execution_count": 36,
     "metadata": {},
     "output_type": "execute_result"
    }
   ],
   "source": [
    "p = {'prob': 11/30}\n",
    "model.evaluate_distance(p), model.evaluate_likelihood(p)"
   ]
  },
  {
   "cell_type": "code",
   "execution_count": 37,
   "metadata": {},
   "outputs": [
    {
     "name": "stdout",
     "output_type": "stream",
     "text": [
      "INFO:ABC:Testing threshold\n",
      "INFO:ABC:Detected epsilon = -3.144\n",
      "INFO:ABC:Collecting posterior parameters\n",
      "INFO:ABC:Completed\n"
     ]
    }
   ],
   "source": [
    "alg = dag.fitting.ABC(p_test = 0.05)\n",
    "\n",
    "res = alg.fit(model, n_post = 200)"
   ]
  },
  {
   "cell_type": "code",
   "execution_count": 31,
   "metadata": {},
   "outputs": [
    {
     "data": {
      "text/plain": [
       "36.39465378557255"
      ]
     },
     "execution_count": 31,
     "metadata": {},
     "output_type": "execute_result"
    }
   ],
   "source": [
    "import numpy as np\n",
    "\n",
    "n_test = 100\n",
    "p_test = 0.1\n",
    "\n",
    "tests = list()\n",
    "\n",
    "while len(tests) < n_test:\n",
    "    p = model.sample_prior()\n",
    "    li = model.evaluate_likelihood(p)\n",
    "    if np.isfinite(li):\n",
    "        tests.append(li)\n",
    "\n",
    "eps = np.percentile(tests, (1 - p_test) * 100)\n",
    "eps"
   ]
  },
  {
   "cell_type": "code",
   "execution_count": 45,
   "metadata": {},
   "outputs": [
    {
     "data": {
      "text/html": [
       "<div>\n",
       "<style scoped>\n",
       "    .dataframe tbody tr th:only-of-type {\n",
       "        vertical-align: middle;\n",
       "    }\n",
       "\n",
       "    .dataframe tbody tr th {\n",
       "        vertical-align: top;\n",
       "    }\n",
       "\n",
       "    .dataframe thead th {\n",
       "        text-align: right;\n",
       "    }\n",
       "</style>\n",
       "<table border=\"1\" class=\"dataframe\">\n",
       "  <thead>\n",
       "    <tr style=\"text-align: right;\">\n",
       "      <th></th>\n",
       "      <th>LogLikelihood</th>\n",
       "      <th>prob</th>\n",
       "    </tr>\n",
       "  </thead>\n",
       "  <tbody>\n",
       "    <tr>\n",
       "      <th>count</th>\n",
       "      <td>200.000000</td>\n",
       "      <td>200.000000</td>\n",
       "    </tr>\n",
       "    <tr>\n",
       "      <th>mean</th>\n",
       "      <td>-3.120921</td>\n",
       "      <td>0.365412</td>\n",
       "    </tr>\n",
       "    <tr>\n",
       "      <th>std</th>\n",
       "      <td>0.009800</td>\n",
       "      <td>0.013349</td>\n",
       "    </tr>\n",
       "    <tr>\n",
       "      <th>min</th>\n",
       "      <td>-3.143159</td>\n",
       "      <td>0.343996</td>\n",
       "    </tr>\n",
       "    <tr>\n",
       "      <th>25%</th>\n",
       "      <td>-3.127818</td>\n",
       "      <td>0.352795</td>\n",
       "    </tr>\n",
       "    <tr>\n",
       "      <th>50%</th>\n",
       "      <td>-3.119437</td>\n",
       "      <td>0.364962</td>\n",
       "    </tr>\n",
       "    <tr>\n",
       "      <th>75%</th>\n",
       "      <td>-3.111715</td>\n",
       "      <td>0.378026</td>\n",
       "    </tr>\n",
       "    <tr>\n",
       "      <th>max</th>\n",
       "      <td>-3.109337</td>\n",
       "      <td>0.389432</td>\n",
       "    </tr>\n",
       "  </tbody>\n",
       "</table>\n",
       "</div>"
      ],
      "text/plain": [
       "       LogLikelihood        prob\n",
       "count     200.000000  200.000000\n",
       "mean       -3.120921    0.365412\n",
       "std         0.009800    0.013349\n",
       "min        -3.143159    0.343996\n",
       "25%        -3.127818    0.352795\n",
       "50%        -3.119437    0.364962\n",
       "75%        -3.111715    0.378026\n",
       "max        -3.109337    0.389432"
      ]
     },
     "execution_count": 45,
     "metadata": {},
     "output_type": "execute_result"
    }
   ],
   "source": [
    "res.to_df().describe()"
   ]
  },
  {
   "cell_type": "code",
   "execution_count": 38,
   "metadata": {},
   "outputs": [
    {
     "ename": "AttributeError",
     "evalue": "module 'epidag.fitting' has no attribute 'MCMC'",
     "output_type": "error",
     "traceback": [
      "\u001b[1;31m---------------------------------------------------------------------------\u001b[0m",
      "\u001b[1;31mAttributeError\u001b[0m                            Traceback (most recent call last)",
      "\u001b[1;32m<ipython-input-38-6dd48e2def7d>\u001b[0m in \u001b[0;36m<module>\u001b[1;34m\u001b[0m\n\u001b[1;32m----> 1\u001b[1;33m \u001b[0mfit\u001b[0m \u001b[1;33m=\u001b[0m \u001b[0mdag\u001b[0m\u001b[1;33m.\u001b[0m\u001b[0mfitting\u001b[0m\u001b[1;33m.\u001b[0m\u001b[0mMCMC\u001b[0m\u001b[1;33m(\u001b[0m\u001b[0mdm\u001b[0m\u001b[1;33m)\u001b[0m\u001b[1;33m\u001b[0m\u001b[1;33m\u001b[0m\u001b[0m\n\u001b[0m\u001b[0;32m      2\u001b[0m \u001b[0mfit\u001b[0m\u001b[1;33m.\u001b[0m\u001b[0mfit\u001b[0m\u001b[1;33m(\u001b[0m\u001b[1;36m1000\u001b[0m\u001b[1;33m)\u001b[0m\u001b[1;33m\u001b[0m\u001b[1;33m\u001b[0m\u001b[0m\n\u001b[0;32m      3\u001b[0m \u001b[0mfit\u001b[0m\u001b[1;33m.\u001b[0m\u001b[0msummarise_posterior\u001b[0m\u001b[1;33m(\u001b[0m\u001b[1;33m)\u001b[0m\u001b[1;33m\u001b[0m\u001b[1;33m\u001b[0m\u001b[0m\n",
      "\u001b[1;31mAttributeError\u001b[0m: module 'epidag.fitting' has no attribute 'MCMC'"
     ]
    }
   ],
   "source": [
    "fit = dag.fitting.MCMC(dm)\n",
    "fit.fit(1000)\n",
    "fit.summarise_posterior()"
   ]
  },
  {
   "cell_type": "code",
   "execution_count": 15,
   "metadata": {},
   "outputs": [
    {
     "name": "stdout",
     "output_type": "stream",
     "text": [
      "INFO:root:Initialising\n",
      "INFO:root:Testing threshold\n",
      "INFO:root:Fitting\n",
      "INFO:root:Gathering posteriori\n",
      "INFO:root:Finished\n",
      "          al     be        prob\n",
      "count  100.0  100.0  100.000000\n",
      "mean     1.0    1.0    0.366832\n",
      "std      0.0    0.0    0.034689\n",
      "min      1.0    1.0    0.311369\n",
      "25%      1.0    1.0    0.334778\n",
      "50%      1.0    1.0    0.367846\n",
      "75%      1.0    1.0    0.397980\n",
      "max      1.0    1.0    0.424331\n",
      "N       100.000000\n",
      "ESS      99.575397\n",
      "Dbar      6.373474\n",
      "pD        0.004413\n",
      "DIC       6.377887\n",
      "dtype: float64\n"
     ]
    }
   ],
   "source": [
    "fit = dag.fitting.ABC(dm)\n",
    "fit.fit(100, test_p=0.1)\n",
    "fit.summarise_posterior()"
   ]
  },
  {
   "cell_type": "code",
   "execution_count": 9,
   "metadata": {},
   "outputs": [
    {
     "name": "stdout",
     "output_type": "stream",
     "text": [
      "g(heat, b2, sd, b1, b0, sun)\n",
      "-- agent(mu1, y2, x1, mu2, y1, x2)\n"
     ]
    }
   ],
   "source": [
    "scr = '''\n",
    "PCore ex {\n",
    "    sun ~ unif(0, 1)\n",
    "    b0 = 1\n",
    "    heat ~ exp(sun)\n",
    "    x1 ~ norm(0, 1)\n",
    "    x2 ~ norm(0, 1)\n",
    "    b1 ~ unif(10, 20)\n",
    "    mu1 = b0 + b1*x1 + b2*x2\n",
    "    mu2 = b0 + b1*x1\n",
    "    y1 ~ norm(mu1, sd)\n",
    "    y2 ~ norm(mu2, 1)\n",
    "}\n",
    "\n",
    "'''\n",
    "\n",
    "bn = dag.bayes_net_from_script(scr)\n",
    "hie = {\n",
    "    'g': ['sun', 'agent'],\n",
    "    'agent': ['x1', 'x2','mu1', 'mu2']\n",
    "}\n",
    "sm = dag.as_simulation_core(bn, hie=hie, random=['x2'])\n",
    "\n",
    "\n",
    "h = dag.form_hierarchy(bn, hie)\n",
    "\n",
    "h.print()"
   ]
  },
  {
   "cell_type": "code",
   "execution_count": 10,
   "metadata": {},
   "outputs": [],
   "source": [
    "pc = sm.generate(exo={'sd'})\n",
    "ag1 = pc.breed('a1', 'agent')"
   ]
  },
  {
   "cell_type": "code",
   "execution_count": 19,
   "metadata": {},
   "outputs": [
    {
     "data": {
      "text/plain": [
       "-1.5826879957652007"
      ]
     },
     "execution_count": 19,
     "metadata": {},
     "output_type": "execute_result"
    }
   ],
   "source": [
    "ag1.get_sampler('y1')(b2= 4, sd =3)"
   ]
  },
  {
   "cell_type": "code",
   "execution_count": 13,
   "metadata": {},
   "outputs": [
    {
     "data": {
      "text/plain": [
       "0.7308904995335411"
      ]
     },
     "execution_count": 13,
     "metadata": {},
     "output_type": "execute_result"
    }
   ],
   "source": [
    "pc.get_sampler('heat')()"
   ]
  },
  {
   "cell_type": "code",
   "execution_count": 12,
   "metadata": {},
   "outputs": [
    {
     "name": "stdout",
     "output_type": "stream",
     "text": [
      "Group g\n",
      "Exogenous    : ['b2', 'sd']\n",
      "Can be fixed: ['b1', 'b0', 'sun', 'heat']\n",
      "Can be random: ['sun', 'heat']\n",
      "Can be actors: ['heat']\n",
      "--Group agent\n",
      "  Exogenous    : []\n",
      "  Can be fixed: ['x1', 'mu2', 'x2', 'y2']\n",
      "  Can be random: ['x1', 'mu2', 'x2', 'y2', 'y1', 'mu1']\n",
      "  Can be actors: ['y2', 'y1']\n"
     ]
    },
    {
     "data": {
      "text/plain": [
       "{'g': (['b2', 'sd'], ['b1', 'b0'], ['sun'], ['heat'], [], []),\n",
       " 'agent': ([], [], ['x1', 'mu2', 'x2'], ['y2'], ['y1'], ['mu1'])}"
      ]
     },
     "execution_count": 12,
     "metadata": {},
     "output_type": "execute_result"
    }
   ],
   "source": [
    "ng = dag.form_hierarchy(bn, hie)\n",
    "dag.analyse_node_type(bn, ng, True)\n"
   ]
  }
 ],
 "metadata": {
  "kernelspec": {
   "display_name": "Python 3",
   "language": "python",
   "name": "python3"
  },
  "language_info": {
   "codemirror_mode": {
    "name": "ipython",
    "version": 3
   },
   "file_extension": ".py",
   "mimetype": "text/x-python",
   "name": "python",
   "nbconvert_exporter": "python",
   "pygments_lexer": "ipython3",
   "version": "3.7.3"
  }
 },
 "nbformat": 4,
 "nbformat_minor": 2
}
