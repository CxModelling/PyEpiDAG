{
 "cells": [
  {
   "cell_type": "markdown",
   "metadata": {},
   "source": [
    "## Load PyEpiDAG"
   ]
  },
  {
   "cell_type": "code",
   "execution_count": 1,
   "metadata": {
    "collapsed": true
   },
   "outputs": [],
   "source": [
    "import epidag as dag\n",
    "import numpy as np"
   ]
  },
  {
   "cell_type": "markdown",
   "metadata": {},
   "source": [
    "## Define a DAG"
   ]
  },
  {
   "cell_type": "markdown",
   "metadata": {},
   "source": [
    "Compose a script\n",
    "\n",
    "```\n",
    "PCore Exp1 {\n",
    "    # Definitions of nodes\n",
    "}\n",
    "```\n",
    "\n",
    "Then, .. parse to a DAG"
   ]
  },
  {
   "cell_type": "code",
   "execution_count": 2,
   "metadata": {
    "collapsed": false
   },
   "outputs": [
    {
     "data": {
      "text/plain": [
       "Name:\tExp1\n",
       "Nodes:\n",
       "\tn\n",
       "\tb ~ beta(1,1)\n",
       "\ta = 0.5\n",
       "\tc = min(a,b)\n",
       "\ty ~ binom(n,c)"
      ]
     },
     "execution_count": 2,
     "metadata": {},
     "output_type": "execute_result"
    }
   ],
   "source": [
    "script = '''\n",
    "PCore Exp1 {\n",
    "    n\n",
    "    a = 0.5 \n",
    "    b ~ beta(1, 1)\n",
    "    c = min(a, b)\n",
    "    y ~ binom(n, c)\n",
    "}\n",
    "'''\n",
    "\n",
    "js = dag.bn_script_to_json(script)\n",
    "bn = dag.BayesianNetwork(js)\n",
    "bn"
   ]
  },
  {
   "cell_type": "markdown",
   "metadata": {},
   "source": [
    "### Single value variable\n",
    "\n",
    "\n",
    "> VariableName = Number \n"
   ]
  },
  {
   "cell_type": "code",
   "execution_count": 3,
   "metadata": {
    "collapsed": false
   },
   "outputs": [
    {
     "name": "stdout",
     "output_type": "stream",
     "text": [
      "Node 'a'\n",
      "a = 0.5\n",
      "\n",
      "Find the value\n",
      "0.5\n"
     ]
    }
   ],
   "source": [
    "SingleValue = bn['a']\n",
    "print('Node \\'a\\'')\n",
    "print(SingleValue)\n",
    "\n",
    "print('\\nFind the value')\n",
    "print(SingleValue())"
   ]
  },
  {
   "cell_type": "markdown",
   "metadata": {},
   "source": [
    "### Exogenous variable\n",
    "\n",
    "> VariableName"
   ]
  },
  {
   "cell_type": "code",
   "execution_count": 4,
   "metadata": {
    "collapsed": false
   },
   "outputs": [
    {
     "name": "stdout",
     "output_type": "stream",
     "text": [
      "Node 'n'\n",
      "n\n",
      "\n",
      "Find the value; must append external resources\n",
      "5\n"
     ]
    }
   ],
   "source": [
    "Exogenous = bn['n']\n",
    "print('Node \\'n\\'')\n",
    "print(Exogenous)\n",
    "\n",
    "print('\\nFind the value; must append external resources')\n",
    "print(Exogenous({'n': 5}))"
   ]
  },
  {
   "cell_type": "markdown",
   "metadata": {},
   "source": [
    "### Random variable\n",
    "\n",
    "> VariableName ~ p(...)\n",
    "\n",
    "** p(...) **: a probabilidy density/mass function"
   ]
  },
  {
   "cell_type": "code",
   "execution_count": 5,
   "metadata": {
    "collapsed": false
   },
   "outputs": [
    {
     "name": "stdout",
     "output_type": "stream",
     "text": [
      "Node 'b'\n",
      "b ~ beta(1,1)\n",
      "\n",
      "Sample a value\n",
      "0.741855020913\n"
     ]
    }
   ],
   "source": [
    "Random = bn['b']\n",
    "print('Node \\'b\\'')\n",
    "print(Random)\n",
    "\n",
    "print('\\nSample a value')\n",
    "print(Random())"
   ]
  },
  {
   "cell_type": "markdown",
   "metadata": {},
   "source": [
    "### Equation output\n",
    "\n",
    "> OutputName = g(...)\n",
    "\n",
    "** g(...) **: a mathematical function"
   ]
  },
  {
   "cell_type": "code",
   "execution_count": 6,
   "metadata": {
    "collapsed": false
   },
   "outputs": [
    {
     "name": "stdout",
     "output_type": "stream",
     "text": [
      "Node 'c'\n",
      "c = min(a,b)\n",
      "\n",
      "Calculate a value\n",
      "0.5\n"
     ]
    }
   ],
   "source": [
    "Equation = bn['c']\n",
    "print('Node \\'c\\'')\n",
    "print(Equation)\n",
    "\n",
    "parents = {\n",
    "    'a': SingleValue(), \n",
    "    'b': Random() \n",
    "}\n",
    "\n",
    "print('\\nCalculate a value')\n",
    "print(Equation(parents))"
   ]
  },
  {
   "cell_type": "markdown",
   "metadata": {},
   "source": [
    "### Pseudo Node\n",
    "Pseudo nodes are the nodes which can not be implemented in simulation but in relation inference.\n",
    "\n",
    "> VariableName = f(...)\n",
    "\n",
    "** f(...) **: a pseudo function start with ** f ** and a list of parent variables follows"
   ]
  },
  {
   "cell_type": "code",
   "execution_count": 7,
   "metadata": {
    "collapsed": true
   },
   "outputs": [],
   "source": [
    "## todo"
   ]
  },
  {
   "cell_type": "markdown",
   "metadata": {},
   "source": [
    "## For simulation model"
   ]
  },
  {
   "cell_type": "markdown",
   "metadata": {},
   "source": [
    "### Basic case"
   ]
  },
  {
   "cell_type": "code",
   "execution_count": 23,
   "metadata": {
    "collapsed": false
   },
   "outputs": [
    {
     "data": {
      "text/plain": [
       "sd: 1.16964, mu_y: 10, mu_x: 0"
      ]
     },
     "execution_count": 23,
     "metadata": {},
     "output_type": "execute_result"
    }
   ],
   "source": [
    "script = '''\n",
    "PCore Exp2 {\n",
    "   mu_x = 0\n",
    "   mu_y = 10\n",
    "   sd ~ exp(1)\n",
    "   x ~ norm(mu_x, sd)\n",
    "   y ~ norm(mu_y, sd)\n",
    "}\n",
    "'''\n",
    "\n",
    "bn = dag.bn_from_script(script)\n",
    "sc = dag.as_simulation_core(bn)\n",
    "sg = sc.generate('exp2')\n",
    "sg"
   ]
  },
  {
   "cell_type": "code",
   "execution_count": 24,
   "metadata": {
    "collapsed": false
   },
   "outputs": [
    {
     "data": {
      "text/plain": [
       "Actor y (norm(mu_y,sd)) on exp2"
      ]
     },
     "execution_count": 24,
     "metadata": {},
     "output_type": "execute_result"
    }
   ],
   "source": [
    "y = sg.get_sampler('y')\n",
    "y"
   ]
  },
  {
   "cell_type": "code",
   "execution_count": 25,
   "metadata": {
    "collapsed": false
   },
   "outputs": [
    {
     "data": {
      "text/plain": [
       "(11.424117926946625, 9.9736828479279023)"
      ]
     },
     "execution_count": 25,
     "metadata": {},
     "output_type": "execute_result"
    }
   ],
   "source": [
    "y(), np.mean([y() for _ in range(1000)])"
   ]
  },
  {
   "cell_type": "markdown",
   "metadata": {},
   "source": [
    "Intervention"
   ]
  },
  {
   "cell_type": "code",
   "execution_count": 26,
   "metadata": {
    "collapsed": false
   },
   "outputs": [
    {
     "data": {
      "text/plain": [
       "sd: 1.16964, mu_y: 100, mu_x: 0"
      ]
     },
     "execution_count": 26,
     "metadata": {},
     "output_type": "execute_result"
    }
   ],
   "source": [
    "sg.impulse({'mu_y': 100})\n",
    "sg"
   ]
  },
  {
   "cell_type": "code",
   "execution_count": 27,
   "metadata": {
    "collapsed": false
   },
   "outputs": [
    {
     "data": {
      "text/plain": [
       "(101.23077439711317, 100.04081242600334)"
      ]
     },
     "execution_count": 27,
     "metadata": {},
     "output_type": "execute_result"
    }
   ],
   "source": [
    "y(), np.mean([y() for _ in range(1000)])"
   ]
  },
  {
   "cell_type": "markdown",
   "metadata": {},
   "source": [
    "### Define exposed nodes"
   ]
  },
  {
   "cell_type": "markdown",
   "metadata": {},
   "source": [
    "### Heirarchical node groups"
   ]
  },
  {
   "cell_type": "markdown",
   "metadata": {},
   "source": [
    "### Random effects"
   ]
  },
  {
   "cell_type": "markdown",
   "metadata": {},
   "source": []
  },
  {
   "cell_type": "markdown",
   "metadata": {},
   "source": [
    "### Example 1: beta-binomial model"
   ]
  },
  {
   "cell_type": "code",
   "execution_count": 14,
   "metadata": {
    "collapsed": true
   },
   "outputs": [],
   "source": [
    "# Sample "
   ]
  },
  {
   "cell_type": "code",
   "execution_count": 15,
   "metadata": {
    "collapsed": true
   },
   "outputs": [],
   "source": [
    "# Sample with given nodes"
   ]
  },
  {
   "cell_type": "markdown",
   "metadata": {},
   "source": [
    "### Example 2:  regression model"
   ]
  },
  {
   "cell_type": "code",
   "execution_count": null,
   "metadata": {
    "collapsed": true
   },
   "outputs": [],
   "source": []
  },
  {
   "cell_type": "markdown",
   "metadata": {},
   "source": [
    "### Example 3: BMI model"
   ]
  },
  {
   "cell_type": "code",
   "execution_count": 16,
   "metadata": {
    "collapsed": false
   },
   "outputs": [
    {
     "data": {
      "text/plain": [
       "sd: 1, sdB: 0.5, pf: 0.207491, b1: 0.5, b0: 12.8077, ps: 0.311177, b0r: 0.00519976, ageB: 28.6329, muB: 27.1294"
      ]
     },
     "execution_count": 16,
     "metadata": {},
     "output_type": "execute_result"
    }
   ],
   "source": [
    "\n",
    "script = '''\n",
    "Pcore BMI {\n",
    "    b0 ~ norm(12, 1)\n",
    "    b1 = 0.5 # gggg\n",
    "    pf ~ beta(8, 20)\n",
    "    foodstore ~ binom(100, pf)\n",
    "    b0r ~ norm(0, .01)\n",
    "    ageA ~ norm(20, 3)\n",
    "    ageB ~ norm(30, 2)\n",
    "    ps ~ beta(5, 6)\n",
    "    sexA ~ cat({'m': ps, 'f': 1-ps})\n",
    "    muA = b0 + b0r + b1*ageA\n",
    "    bmiA ~ norm(muA, sd)\n",
    "    sdB = sd * 0.5\n",
    "    muB = b0 + b0r + b1*ageB\n",
    "    bmiB ~ norm(muB, sdB)\n",
    "}\n",
    "'''\n",
    "\n",
    "\n",
    "bn = dag.bn_from_script(script)\n",
    "\n",
    "hie = {\n",
    "    'country': ['area'],\n",
    "    'area': ['b0r', 'ps', 'foodstore', 'agA', 'agB'],\n",
    "    'agA': ['bmiA', 'ageA', 'sexA'],\n",
    "    'agB': ['bmiB', 'ageB']\n",
    "}\n",
    "\n",
    "sc = dag.as_simulation_core(bn, hie,\n",
    "                            root='country',\n",
    "                            random=['muA'],\n",
    "                            out=['foodstore', 'bmiA', 'bmiB'])\n",
    "\n",
    "pc = sc.generate('Taiwan', {'sd': 1})\n",
    "pc_taipei = pc.breed('Taipei', 'area')\n",
    "pc_taipei.breed('A1', 'agA')\n",
    "pc_taipei.breed('A2', 'agA')\n",
    "pc_taipei.breed('B1', 'agB')\n",
    "pc_taipei.breed('B2', 'agB')"
   ]
  },
  {
   "cell_type": "code",
   "execution_count": 17,
   "metadata": {
    "collapsed": false
   },
   "outputs": [
    {
     "name": "stdout",
     "output_type": "stream",
     "text": [
      "Taiwan (sd: 1, sdB: 0.5, pf: 0.207491, b1: 0.5, b0: 12.8077)\n",
      "-- Taipei (sd: 1, sdB: 0.5, pf: 0.207491, b1: 0.5, b0: 12.8077, ps: 0.311177, b0r: 0.00519976)\n",
      "---- A1 (sd: 1, sdB: 0.5, pf: 0.207491, b1: 0.5, b0: 12.8077, ps: 0.311177, b0r: 0.00519976, sexA: f, ageA: 20.5522)\n",
      "---- A2 (sd: 1, sdB: 0.5, pf: 0.207491, b1: 0.5, b0: 12.8077, ps: 0.311177, b0r: 0.00519976, sexA: f, ageA: 18.9887)\n",
      "---- B1 (sd: 1, sdB: 0.5, pf: 0.207491, b1: 0.5, b0: 12.8077, ps: 0.311177, b0r: 0.00519976, ageB: 30.3686, muB: 27.9972)\n",
      "---- B2 (sd: 1, sdB: 0.5, pf: 0.207491, b1: 0.5, b0: 12.8077, ps: 0.311177, b0r: 0.00519976, ageB: 28.6329, muB: 27.1294)\n"
     ]
    }
   ],
   "source": [
    "pc.deep_print()"
   ]
  },
  {
   "cell_type": "markdown",
   "metadata": {},
   "source": [
    "### Example 4: A simple agent-based model "
   ]
  }
 ],
 "metadata": {
  "kernelspec": {
   "display_name": "Python 3",
   "language": "python",
   "name": "python3"
  },
  "language_info": {
   "codemirror_mode": {
    "name": "ipython",
    "version": 3
   },
   "file_extension": ".py",
   "mimetype": "text/x-python",
   "name": "python",
   "nbconvert_exporter": "python",
   "pygments_lexer": "ipython3",
   "version": "3.6.0"
  }
 },
 "nbformat": 4,
 "nbformat_minor": 2
}
