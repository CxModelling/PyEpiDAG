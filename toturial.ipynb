{
 "cells": [
  {
   "cell_type": "markdown",
   "metadata": {},
   "source": [
    "## Load PyEpiDAG"
   ]
  },
  {
   "cell_type": "code",
   "execution_count": 1,
   "metadata": {
    "collapsed": true
   },
   "outputs": [],
   "source": [
    "import epidag as dag\n",
    "import numpy as np"
   ]
  },
  {
   "cell_type": "markdown",
   "metadata": {},
   "source": [
    "## Define a DAG"
   ]
  },
  {
   "cell_type": "markdown",
   "metadata": {},
   "source": [
    "Compose a script\n",
    "\n",
    "```\n",
    "PCore Exp1 {\n",
    "    # Definitions of nodes\n",
    "}\n",
    "```\n",
    "\n",
    "Then, .. parse to a DAG"
   ]
  },
  {
   "cell_type": "code",
   "execution_count": 2,
   "metadata": {
    "collapsed": false
   },
   "outputs": [
    {
     "data": {
      "text/plain": [
       "Name:\tExp1\n",
       "Nodes:\n",
       "\tn\n",
       "\tb ~ beta(1,1)\n",
       "\ta = 0.5\n",
       "\tc = min(a,b)\n",
       "\ty ~ binom(n,c)"
      ]
     },
     "execution_count": 2,
     "metadata": {},
     "output_type": "execute_result"
    }
   ],
   "source": [
    "script = '''\n",
    "PCore Exp1 {\n",
    "    n\n",
    "    a = 0.5 \n",
    "    b ~ beta(1, 1)\n",
    "    c = min(a, b)\n",
    "    y ~ binom(n, c)\n",
    "}\n",
    "'''\n",
    "\n",
    "js = dag.bn_script_to_json(script)\n",
    "bn = dag.BayesianNetwork(js)\n",
    "bn"
   ]
  },
  {
   "cell_type": "markdown",
   "metadata": {},
   "source": [
    "### Single value variable\n",
    "\n",
    "\n",
    "> VariableName = Number \n"
   ]
  },
  {
   "cell_type": "code",
   "execution_count": 3,
   "metadata": {
    "collapsed": false
   },
   "outputs": [
    {
     "name": "stdout",
     "output_type": "stream",
     "text": [
      "Node 'a'\n",
      "a = 0.5\n",
      "\n",
      "Find the value\n",
      "0.5\n"
     ]
    }
   ],
   "source": [
    "SingleValue = bn['a']\n",
    "print('Node \\'a\\'')\n",
    "print(SingleValue)\n",
    "\n",
    "print('\\nFind the value')\n",
    "print(SingleValue())"
   ]
  },
  {
   "cell_type": "markdown",
   "metadata": {},
   "source": [
    "### Exogenous variable\n",
    "\n",
    "> VariableName"
   ]
  },
  {
   "cell_type": "code",
   "execution_count": 4,
   "metadata": {
    "collapsed": false
   },
   "outputs": [
    {
     "name": "stdout",
     "output_type": "stream",
     "text": [
      "Node 'n'\n",
      "n\n",
      "\n",
      "Find the value; must append external resources\n",
      "5\n"
     ]
    }
   ],
   "source": [
    "Exogenous = bn['n']\n",
    "print('Node \\'n\\'')\n",
    "print(Exogenous)\n",
    "\n",
    "print('\\nFind the value; must append external resources')\n",
    "print(Exogenous({'n': 5}))"
   ]
  },
  {
   "cell_type": "markdown",
   "metadata": {},
   "source": [
    "### Random variable\n",
    "\n",
    "> VariableName ~ p(...)\n",
    "\n",
    "** p(...) **: a probabilidy density/mass function"
   ]
  },
  {
   "cell_type": "code",
   "execution_count": 5,
   "metadata": {
    "collapsed": false
   },
   "outputs": [
    {
     "name": "stdout",
     "output_type": "stream",
     "text": [
      "Node 'b'\n",
      "b ~ beta(1,1)\n",
      "\n",
      "Sample a value\n",
      "0.732622402088\n"
     ]
    }
   ],
   "source": [
    "Random = bn['b']\n",
    "print('Node \\'b\\'')\n",
    "print(Random)\n",
    "\n",
    "print('\\nSample a value')\n",
    "print(Random())"
   ]
  },
  {
   "cell_type": "markdown",
   "metadata": {},
   "source": [
    "### Equation output\n",
    "\n",
    "> OutputName = g(...)\n",
    "\n",
    "** g(...) **: a mathematical function"
   ]
  },
  {
   "cell_type": "code",
   "execution_count": 6,
   "metadata": {
    "collapsed": false
   },
   "outputs": [
    {
     "name": "stdout",
     "output_type": "stream",
     "text": [
      "Node 'c'\n",
      "c = min(a,b)\n",
      "\n",
      "Calculate a value\n",
      "0.282966987657\n"
     ]
    }
   ],
   "source": [
    "Equation = bn['c']\n",
    "print('Node \\'c\\'')\n",
    "print(Equation)\n",
    "\n",
    "parents = {\n",
    "    'a': SingleValue(), \n",
    "    'b': Random() \n",
    "}\n",
    "\n",
    "print('\\nCalculate a value')\n",
    "print(Equation(parents))"
   ]
  },
  {
   "cell_type": "markdown",
   "metadata": {},
   "source": [
    "### Pseudo Node\n",
    "Pseudo nodes are the nodes which can not be implemented in simulation but in relation inference.\n",
    "\n",
    "> VariableName = f(...)\n",
    "\n",
    "** f(...) **: a pseudo function start with ** f ** and a list of parent variables follows"
   ]
  },
  {
   "cell_type": "code",
   "execution_count": 7,
   "metadata": {
    "collapsed": true
   },
   "outputs": [],
   "source": [
    "## todo"
   ]
  },
  {
   "cell_type": "markdown",
   "metadata": {},
   "source": [
    "## For simulation model"
   ]
  },
  {
   "cell_type": "markdown",
   "metadata": {},
   "source": [
    "### Basic case"
   ]
  },
  {
   "cell_type": "code",
   "execution_count": 8,
   "metadata": {
    "collapsed": false
   },
   "outputs": [
    {
     "data": {
      "text/plain": [
       "sd: 1.88104, mu_y: 10, mu_x: 0"
      ]
     },
     "execution_count": 8,
     "metadata": {},
     "output_type": "execute_result"
    }
   ],
   "source": [
    "script = '''\n",
    "PCore Exp2 {\n",
    "   mu_x = 0\n",
    "   mu_y = 10\n",
    "   sd ~ exp(1)\n",
    "   x ~ norm(mu_x, sd)\n",
    "   y ~ norm(mu_y, sd)\n",
    "}\n",
    "'''\n",
    "\n",
    "bn = dag.bn_from_script(script)\n",
    "sc = dag.as_simulation_core(bn)\n",
    "sg = sc.generate('exp2')\n",
    "sg"
   ]
  },
  {
   "cell_type": "code",
   "execution_count": 9,
   "metadata": {
    "collapsed": false
   },
   "outputs": [
    {
     "data": {
      "text/plain": [
       "Actor y (norm(mu_y,sd)) on exp2"
      ]
     },
     "execution_count": 9,
     "metadata": {},
     "output_type": "execute_result"
    }
   ],
   "source": [
    "y = sg.get_sampler('y')\n",
    "y"
   ]
  },
  {
   "cell_type": "code",
   "execution_count": 10,
   "metadata": {
    "collapsed": false
   },
   "outputs": [
    {
     "data": {
      "text/plain": [
       "(9.5761431222865472, 9.9412444283247225)"
      ]
     },
     "execution_count": 10,
     "metadata": {},
     "output_type": "execute_result"
    }
   ],
   "source": [
    "y(), np.mean([y() for _ in range(1000)])"
   ]
  },
  {
   "cell_type": "markdown",
   "metadata": {},
   "source": [
    "Intervention"
   ]
  },
  {
   "cell_type": "code",
   "execution_count": 11,
   "metadata": {
    "collapsed": false
   },
   "outputs": [
    {
     "name": "stdout",
     "output_type": "stream",
     "text": [
      "{'y'}\n",
      "{'y'}\n"
     ]
    },
    {
     "data": {
      "text/plain": [
       "sd: 1.88104, mu_y: 100, mu_x: 0"
      ]
     },
     "execution_count": 11,
     "metadata": {},
     "output_type": "execute_result"
    }
   ],
   "source": [
    "sg.impulse({'mu_y': 100})\n",
    "sg"
   ]
  },
  {
   "cell_type": "code",
   "execution_count": 12,
   "metadata": {
    "collapsed": false
   },
   "outputs": [
    {
     "data": {
      "text/plain": [
       "(100.54780045181155, 100.00488304975876)"
      ]
     },
     "execution_count": 12,
     "metadata": {},
     "output_type": "execute_result"
    }
   ],
   "source": [
    "y(), np.mean([y() for _ in range(1000)])"
   ]
  },
  {
   "cell_type": "markdown",
   "metadata": {},
   "source": [
    "### Define exposed nodes"
   ]
  },
  {
   "cell_type": "markdown",
   "metadata": {},
   "source": [
    "### Heirarchical node groups"
   ]
  },
  {
   "cell_type": "markdown",
   "metadata": {},
   "source": [
    "### Random effects"
   ]
  },
  {
   "cell_type": "markdown",
   "metadata": {},
   "source": []
  },
  {
   "cell_type": "markdown",
   "metadata": {},
   "source": [
    "### Example 1: beta-binomial model"
   ]
  },
  {
   "cell_type": "code",
   "execution_count": 13,
   "metadata": {
    "collapsed": true
   },
   "outputs": [],
   "source": [
    "# Sample "
   ]
  },
  {
   "cell_type": "code",
   "execution_count": 14,
   "metadata": {
    "collapsed": true
   },
   "outputs": [],
   "source": [
    "# Sample with given nodes"
   ]
  },
  {
   "cell_type": "markdown",
   "metadata": {},
   "source": [
    "### Example 2:  regression model"
   ]
  },
  {
   "cell_type": "code",
   "execution_count": null,
   "metadata": {
    "collapsed": true
   },
   "outputs": [],
   "source": []
  },
  {
   "cell_type": "markdown",
   "metadata": {},
   "source": [
    "### Example 3: BMI model"
   ]
  },
  {
   "cell_type": "code",
   "execution_count": 15,
   "metadata": {
    "collapsed": false
   },
   "outputs": [
    {
     "data": {
      "text/plain": [
       "sd: 1, sdB: 0.5, pf: 0.226975, b1: 0.5, b0: 12.8864, ps: 0.365611, b0r: 0.00982017, ageB: 29.5779, muB: 27.6852"
      ]
     },
     "execution_count": 15,
     "metadata": {},
     "output_type": "execute_result"
    }
   ],
   "source": [
    "\n",
    "script = '''\n",
    "Pcore BMI {\n",
    "    b0 ~ norm(12, 1)\n",
    "    b1 = 0.5 # gggg\n",
    "    pf ~ beta(8, 20)\n",
    "    foodstore ~ binom(100, pf)\n",
    "    b0r ~ norm(0, .01)\n",
    "    ageA ~ norm(20, 3)\n",
    "    ageB ~ norm(30, 2)\n",
    "    ps ~ beta(5, 6)\n",
    "    sexA ~ cat({'m': ps, 'f': 1-ps})\n",
    "    muA = b0 + b0r + b1*ageA\n",
    "    bmiA ~ norm(muA, sd)\n",
    "    sdB = sd * 0.5\n",
    "    muB = b0 + b0r + b1*ageB\n",
    "    bmiB ~ norm(muB, sdB)\n",
    "}\n",
    "'''\n",
    "\n",
    "\n",
    "bn = dag.bn_from_script(script)\n",
    "\n",
    "hie = {\n",
    "    'country': ['area'],\n",
    "    'area': ['b0r', 'ps', 'foodstore', 'agA', 'agB'],\n",
    "    'agA': ['bmiA', 'ageA', 'sexA'],\n",
    "    'agB': ['bmiB', 'ageB']\n",
    "}\n",
    "\n",
    "sc = dag.as_simulation_core(bn, hie,\n",
    "                            root='country',\n",
    "                            random=['muA'],\n",
    "                            out=['foodstore', 'bmiA', 'bmiB'])\n",
    "\n",
    "pc = sc.generate('Taiwan', {'sd': 1})\n",
    "pc_taipei = pc.breed('Taipei', 'area')\n",
    "pc_taipei.breed('A1', 'agA')\n",
    "pc_taipei.breed('A2', 'agA')\n",
    "pc_taipei.breed('B1', 'agB')\n",
    "pc_taipei.breed('B2', 'agB')"
   ]
  },
  {
   "cell_type": "code",
   "execution_count": 16,
   "metadata": {
    "collapsed": false
   },
   "outputs": [
    {
     "name": "stdout",
     "output_type": "stream",
     "text": [
      "Taiwan (sd: 1, sdB: 0.5, pf: 0.226975, b1: 0.5, b0: 12.8864)\n",
      "-- Taipei (sd: 1, sdB: 0.5, pf: 0.226975, b1: 0.5, b0: 12.8864, ps: 0.365611, b0r: 0.00982017)\n",
      "---- A1 (sd: 1, sdB: 0.5, pf: 0.226975, b1: 0.5, b0: 12.8864, ps: 0.365611, b0r: 0.00982017, sexA: m, ageA: 22.4131)\n",
      "---- A2 (sd: 1, sdB: 0.5, pf: 0.226975, b1: 0.5, b0: 12.8864, ps: 0.365611, b0r: 0.00982017, sexA: m, ageA: 16.1108)\n",
      "---- B1 (sd: 1, sdB: 0.5, pf: 0.226975, b1: 0.5, b0: 12.8864, ps: 0.365611, b0r: 0.00982017, ageB: 27.6241, muB: 26.7083)\n",
      "---- B2 (sd: 1, sdB: 0.5, pf: 0.226975, b1: 0.5, b0: 12.8864, ps: 0.365611, b0r: 0.00982017, ageB: 29.5779, muB: 27.6852)\n"
     ]
    }
   ],
   "source": [
    "pc.deep_print()"
   ]
  },
  {
   "cell_type": "code",
   "execution_count": 20,
   "metadata": {
    "collapsed": false
   },
   "outputs": [
    {
     "name": "stdout",
     "output_type": "stream",
     "text": [
      "{'bmiB', 'bmiA', 'muB', 'muA'}\n",
      "{'bmiB', 'bmiA', 'muB', 'muA'}\n",
      "Taiwan (sd: 1, sdB: 0.5, pf: 0.226975, b1: 1, b0: 1)\n",
      "-- Taipei (sd: 1, sdB: 0.5, pf: 0.226975, b1: 0.5, b0: 12.8864, ps: 0.365611, b0r: 1)\n",
      "---- A1 (sd: 1, sdB: 0.5, pf: 0.226975, b1: 0.5, b0: 12.8864, ps: 0.365611, b0r: 0.00982017, sexA: m, ageA: 22.4131)\n",
      "---- A2 (sd: 1, sdB: 0.5, pf: 0.226975, b1: 0.5, b0: 12.8864, ps: 0.365611, b0r: 0.00982017, sexA: m, ageA: 16.1108)\n",
      "---- B1 (sd: 1, sdB: 0.5, pf: 0.226975, b1: 0.5, b0: 12.8864, ps: 0.365611, b0r: 0.00982017, ageB: 27.6241, muB: 26.7083)\n",
      "---- B2 (sd: 1, sdB: 0.5, pf: 0.226975, b1: 0.5, b0: 12.8864, ps: 0.365611, b0r: 0.00982017, ageB: 29.5779, muB: 27.6852)\n"
     ]
    }
   ],
   "source": [
    "pc.impulse({'b0r': 1})\n",
    "pc.deep_print()"
   ]
  },
  {
   "cell_type": "code",
   "execution_count": 18,
   "metadata": {
    "collapsed": false
   },
   "outputs": [
    {
     "data": {
      "text/plain": [
       "{'b0': 12.886403793104588,\n",
       " 'b0r': 0.0098201740251844388,\n",
       " 'b1': 0.5,\n",
       " 'pf': 0.22697480441178802,\n",
       " 'ps': 0.36561100342119301,\n",
       " 'sd': 1,\n",
       " 'sdB': 0.5}"
      ]
     },
     "execution_count": 18,
     "metadata": {},
     "output_type": "execute_result"
    }
   ],
   "source": [
    "pc_taipei.Locus"
   ]
  },
  {
   "cell_type": "markdown",
   "metadata": {},
   "source": [
    "### Example 4: A simple agent-based model "
   ]
  }
 ],
 "metadata": {
  "kernelspec": {
   "display_name": "Python 3",
   "language": "python",
   "name": "python3"
  },
  "language_info": {
   "codemirror_mode": {
    "name": "ipython",
    "version": 3
   },
   "file_extension": ".py",
   "mimetype": "text/x-python",
   "name": "python",
   "nbconvert_exporter": "python",
   "pygments_lexer": "ipython3",
   "version": "3.6.0"
  }
 },
 "nbformat": 4,
 "nbformat_minor": 2
}
