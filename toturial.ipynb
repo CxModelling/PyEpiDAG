{
 "cells": [
  {
   "cell_type": "markdown",
   "metadata": {},
   "source": [
    "## Load PyEpiDAG"
   ]
  },
  {
   "cell_type": "code",
   "execution_count": 1,
   "metadata": {
    "collapsed": true
   },
   "outputs": [],
   "source": [
    "import epidag as dag"
   ]
  },
  {
   "cell_type": "markdown",
   "metadata": {},
   "source": [
    "## Define a DAG"
   ]
  },
  {
   "cell_type": "markdown",
   "metadata": {},
   "source": [
    "Compose a script\n",
    "\n",
    "```\n",
    "PCore Exp1 {\n",
    "    # Definitions of nodes\n",
    "}\n",
    "```\n",
    "\n",
    "Then, .. parse to a DAG"
   ]
  },
  {
   "cell_type": "code",
   "execution_count": 2,
   "metadata": {
    "collapsed": false
   },
   "outputs": [
    {
     "data": {
      "text/plain": [
       "Name:\tExp1\n",
       "Nodes:\n",
       "\tn\n",
       "\tb ~ beta(1,1)\n",
       "\ta = 0.5\n",
       "\tc = min([a,b])\n",
       "\ty ~ binom(n,c)"
      ]
     },
     "execution_count": 2,
     "metadata": {},
     "output_type": "execute_result"
    }
   ],
   "source": [
    "script = '''\n",
    "PCore Exp1 {\n",
    "    n\n",
    "    a = 0.5 \n",
    "    b ~ beta(1, 1)\n",
    "    c = min([a, b])\n",
    "    y ~ binom(n, c)\n",
    "}\n",
    "'''\n",
    "\n",
    "js = dag.bn_script_to_json(script)\n",
    "bn = dag.BayesianNetwork(js)\n",
    "bn"
   ]
  },
  {
   "cell_type": "markdown",
   "metadata": {},
   "source": [
    "### Single value variable\n",
    "\n",
    "\n",
    "> VariableName = Number \n"
   ]
  },
  {
   "cell_type": "code",
   "execution_count": 3,
   "metadata": {
    "collapsed": false
   },
   "outputs": [
    {
     "name": "stdout",
     "output_type": "stream",
     "text": [
      "Node 'a'\n",
      "a = 0.5\n",
      "\n",
      "Find the value\n",
      "0.5\n"
     ]
    }
   ],
   "source": [
    "SingleValue = bn['a']\n",
    "print('Node \\'a\\'')\n",
    "print(SingleValue)\n",
    "\n",
    "print('\\nFind the value')\n",
    "print(SingleValue())"
   ]
  },
  {
   "cell_type": "markdown",
   "metadata": {},
   "source": [
    "### Exogenous variable\n",
    "\n",
    "> VariableName"
   ]
  },
  {
   "cell_type": "code",
   "execution_count": 4,
   "metadata": {
    "collapsed": false
   },
   "outputs": [
    {
     "name": "stdout",
     "output_type": "stream",
     "text": [
      "Node 'n'\n",
      "n\n",
      "\n",
      "Find the value; must append external resources\n",
      "5\n"
     ]
    }
   ],
   "source": [
    "Exogenous = bn['n']\n",
    "print('Node \\'n\\'')\n",
    "print(Exogenous)\n",
    "\n",
    "print('\\nFind the value; must append external resources')\n",
    "print(Exogenous({'n': 5}))"
   ]
  },
  {
   "cell_type": "markdown",
   "metadata": {},
   "source": [
    "### Random variable\n",
    "\n",
    "> VariableName ~ p(...)\n",
    "\n",
    "** p(...) **: a probabilidy density/mass function"
   ]
  },
  {
   "cell_type": "code",
   "execution_count": 5,
   "metadata": {
    "collapsed": false
   },
   "outputs": [
    {
     "name": "stdout",
     "output_type": "stream",
     "text": [
      "Node 'b'\n",
      "b ~ beta(1,1)\n",
      "\n",
      "Sample a value\n",
      "0.451871191663\n"
     ]
    }
   ],
   "source": [
    "Random = bn['b']\n",
    "print('Node \\'b\\'')\n",
    "print(Random)\n",
    "\n",
    "print('\\nSample a value')\n",
    "print(Random())"
   ]
  },
  {
   "cell_type": "markdown",
   "metadata": {},
   "source": [
    "### Equation output\n",
    "\n",
    "> OutputName = f(...)\n",
    "\n",
    "** f(...) **: a mathematical function"
   ]
  },
  {
   "cell_type": "code",
   "execution_count": 6,
   "metadata": {
    "collapsed": false
   },
   "outputs": [
    {
     "name": "stdout",
     "output_type": "stream",
     "text": [
      "Node 'c'\n",
      "c = min([a,b])\n",
      "\n",
      "Calculate a value\n",
      "0.0835299383188\n"
     ]
    }
   ],
   "source": [
    "Equation = bn['c']\n",
    "print('Node \\'c\\'')\n",
    "print(Equation)\n",
    "\n",
    "parents = {\n",
    "    'a': SingleValue(), \n",
    "    'b': Random() \n",
    "}\n",
    "\n",
    "print('\\nCalculate a value')\n",
    "print(Equation(parents))"
   ]
  },
  {
   "cell_type": "markdown",
   "metadata": {},
   "source": [
    "### Pseudo Node\n",
    "Coming soon..."
   ]
  },
  {
   "cell_type": "code",
   "execution_count": null,
   "metadata": {
    "collapsed": true
   },
   "outputs": [],
   "source": []
  },
  {
   "cell_type": "markdown",
   "metadata": {},
   "source": [
    "## For simulation model"
   ]
  },
  {
   "cell_type": "markdown",
   "metadata": {},
   "source": [
    "### Basic case"
   ]
  },
  {
   "cell_type": "code",
   "execution_count": 51,
   "metadata": {
    "collapsed": false
   },
   "outputs": [
    {
     "data": {
      "text/plain": [
       "sd: 0.663375, mu_y: 10, mu_x: 0"
      ]
     },
     "execution_count": 51,
     "metadata": {},
     "output_type": "execute_result"
    }
   ],
   "source": [
    "script = '''\n",
    "PCore Exp2 {\n",
    "   mu_x = 0\n",
    "   mu_y = 10\n",
    "   sd ~ exp(1)\n",
    "   x ~ norm(mu_x, sd)\n",
    "   y ~ norm(mu_y, sd)\n",
    "}\n",
    "'''\n",
    "\n",
    "bn = dag.bn_from_script(script)\n",
    "sc = dag.as_simulation_core(bn)\n",
    "sg = sc.generate('exp2')\n",
    "sg"
   ]
  },
  {
   "cell_type": "code",
   "execution_count": 33,
   "metadata": {
    "collapsed": false
   },
   "outputs": [],
   "source": [
    "y = sg.get_sampler('y')"
   ]
  },
  {
   "cell_type": "code",
   "execution_count": 49,
   "metadata": {
    "collapsed": false
   },
   "outputs": [
    {
     "data": {
      "text/plain": [
       "8.808665796452086"
      ]
     },
     "execution_count": 49,
     "metadata": {},
     "output_type": "execute_result"
    }
   ],
   "source": [
    "y()"
   ]
  },
  {
   "cell_type": "code",
   "execution_count": null,
   "metadata": {
    "collapsed": true
   },
   "outputs": [],
   "source": []
  },
  {
   "cell_type": "markdown",
   "metadata": {},
   "source": [
    "### Define exposed nodes"
   ]
  },
  {
   "cell_type": "markdown",
   "metadata": {},
   "source": [
    "### Heirarchical node groups"
   ]
  },
  {
   "cell_type": "markdown",
   "metadata": {},
   "source": [
    "### Random effects"
   ]
  },
  {
   "cell_type": "markdown",
   "metadata": {},
   "source": []
  },
  {
   "cell_type": "markdown",
   "metadata": {},
   "source": [
    "### Example 1: beta-binomial model"
   ]
  },
  {
   "cell_type": "code",
   "execution_count": 9,
   "metadata": {
    "collapsed": true
   },
   "outputs": [],
   "source": [
    "# Sample "
   ]
  },
  {
   "cell_type": "code",
   "execution_count": 10,
   "metadata": {
    "collapsed": true
   },
   "outputs": [],
   "source": [
    "# Sample with given nodes"
   ]
  },
  {
   "cell_type": "markdown",
   "metadata": {},
   "source": [
    "### Example 2:  regression model"
   ]
  },
  {
   "cell_type": "code",
   "execution_count": null,
   "metadata": {
    "collapsed": true
   },
   "outputs": [],
   "source": []
  },
  {
   "cell_type": "markdown",
   "metadata": {},
   "source": [
    "### Example 3: BMI model"
   ]
  },
  {
   "cell_type": "code",
   "execution_count": null,
   "metadata": {
    "collapsed": true
   },
   "outputs": [],
   "source": []
  },
  {
   "cell_type": "markdown",
   "metadata": {},
   "source": [
    "### Example 4: A simple agent-based model "
   ]
  },
  {
   "cell_type": "code",
   "execution_count": null,
   "metadata": {
    "collapsed": true
   },
   "outputs": [],
   "source": []
  },
  {
   "cell_type": "code",
   "execution_count": null,
   "metadata": {
    "collapsed": true
   },
   "outputs": [],
   "source": []
  },
  {
   "cell_type": "code",
   "execution_count": null,
   "metadata": {
    "collapsed": true
   },
   "outputs": [],
   "source": []
  }
 ],
 "metadata": {
  "kernelspec": {
   "display_name": "Python 3",
   "language": "python",
   "name": "python3"
  },
  "language_info": {
   "codemirror_mode": {
    "name": "ipython",
    "version": 3
   },
   "file_extension": ".py",
   "mimetype": "text/x-python",
   "name": "python",
   "nbconvert_exporter": "python",
   "pygments_lexer": "ipython3",
   "version": "3.6.0"
  }
 },
 "nbformat": 4,
 "nbformat_minor": 2
}
